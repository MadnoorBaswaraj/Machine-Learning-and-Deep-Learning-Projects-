{
  "cells": [
    {
      "cell_type": "code",
      "execution_count": 1,
      "metadata": {
        "id": "Fs9Bntemmy_K"
      },
      "outputs": [],
      "source": [
        "import numpy as np\n",
        "import pandas as pd\n",
        "import tensorflow as tf\n",
        "import matplotlib.pyplot as plt\n",
        "import os\n",
        "import json\n",
        "from zipfile import ZipFile\n",
        "import matplotlib.image as mpimg\n",
        "from PIL import Image\n",
        "from tensorflow.keras.preprocessing.image import ImageDataGenerator\n",
        "from tensorflow import keras\n",
        "from tensorflow.keras import layers,models\n"
      ]
    },
    {
      "cell_type": "code",
      "execution_count": 2,
      "metadata": {
        "colab": {
          "base_uri": "https://localhost:8080/"
        },
        "id": "S88s7hVhp_Ox",
        "outputId": "07acedb1-43bd-4aaf-c545-1f71ab512309"
      },
      "outputs": [
        {
          "metadata": {
            "tags": null
          },
          "name": "stdout",
          "output_type": "stream",
          "text": [
            "Requirement already satisfied: kaggle in /usr/local/lib/python3.10/dist-packages (1.6.17)\n",
            "Requirement already satisfied: six>=1.10 in /usr/local/lib/python3.10/dist-packages (from kaggle) (1.16.0)\n",
            "Requirement already satisfied: certifi>=2023.7.22 in /usr/local/lib/python3.10/dist-packages (from kaggle) (2024.8.30)\n",
            "Requirement already satisfied: python-dateutil in /usr/local/lib/python3.10/dist-packages (from kaggle) (2.8.2)\n",
            "Requirement already satisfied: requests in /usr/local/lib/python3.10/dist-packages (from kaggle) (2.32.3)\n",
            "Requirement already satisfied: tqdm in /usr/local/lib/python3.10/dist-packages (from kaggle) (4.66.5)\n",
            "Requirement already satisfied: python-slugify in /usr/local/lib/python3.10/dist-packages (from kaggle) (8.0.4)\n",
            "Requirement already satisfied: urllib3 in /usr/local/lib/python3.10/dist-packages (from kaggle) (2.2.3)\n",
            "Requirement already satisfied: bleach in /usr/local/lib/python3.10/dist-packages (from kaggle) (6.1.0)\n",
            "Requirement already satisfied: webencodings in /usr/local/lib/python3.10/dist-packages (from bleach->kaggle) (0.5.1)\n",
            "Requirement already satisfied: text-unidecode>=1.3 in /usr/local/lib/python3.10/dist-packages (from python-slugify->kaggle) (1.3)\n",
            "Requirement already satisfied: charset-normalizer<4,>=2 in /usr/local/lib/python3.10/dist-packages (from requests->kaggle) (3.4.0)\n",
            "Requirement already satisfied: idna<4,>=2.5 in /usr/local/lib/python3.10/dist-packages (from requests->kaggle) (3.10)\n"
          ]
        }
      ],
      "source": [
        "!pip install kaggle"
      ]
    },
    {
      "cell_type": "code",
      "execution_count": 3,
      "metadata": {
        "id": "b3vHc2uyrBFo"
      },
      "outputs": [],
      "source": [
        "kaggle_json_path=json.load(open('/content/kaggle (4).json'))"
      ]
    },
    {
      "cell_type": "code",
      "execution_count": 4,
      "metadata": {
        "id": "9oAuMtpjrQtZ"
      },
      "outputs": [],
      "source": [
        "os.environ['KAGGLE_USERNAME']=kaggle_json_path['username']\n",
        "os.environ['KAGGLE_KEY']=kaggle_json_path['key']"
      ]
    },
    {
      "cell_type": "code",
      "execution_count": 5,
      "metadata": {
        "colab": {
          "base_uri": "https://localhost:8080/"
        },
        "id": "XMQOHcuZrZdN",
        "outputId": "1b4cda6e-d96a-42b8-bdc7-ba80a05b2650"
      },
      "outputs": [
        {
          "metadata": {
            "tags": null
          },
          "name": "stdout",
          "output_type": "stream",
          "text": [
            "Dataset URL: https://www.kaggle.com/datasets/masoudnickparvar/brain-tumor-mri-dataset\n",
            "License(s): CC0-1.0\n",
            "Downloading brain-tumor-mri-dataset.zip to /content\n",
            " 94% 140M/149M [00:01<00:00, 143MB/s]\n",
            "100% 149M/149M [00:01<00:00, 139MB/s]\n"
          ]
        }
      ],
      "source": [
        "!kaggle datasets download -d masoudnickparvar/brain-tumor-mri-dataset"
      ]
    },
    {
      "cell_type": "code",
      "execution_count": 6,
      "metadata": {
        "id": "KCARJ6PtsSLX"
      },
      "outputs": [],
      "source": [
        "with ZipFile('/content/brain-tumor-mri-dataset.zip','r') as zip:\n",
        "  zip.extractall()"
      ]
    },
    {
      "cell_type": "code",
      "execution_count": 7,
      "metadata": {
        "colab": {
          "base_uri": "https://localhost:8080/"
        },
        "id": "DgqxLktHtyWK",
        "outputId": "177f6ddc-6a1b-496e-f37c-9a0bdb925890"
      },
      "outputs": [
        {
          "metadata": {
            "tags": null
          },
          "name": "stdout",
          "output_type": "stream",
          "text": [
            "['meningioma', 'glioma', 'notumor', 'pituitary']\n"
          ]
        }
      ],
      "source": [
        "print(os.listdir('/content/Testing'))"
      ]
    },
    {
      "cell_type": "code",
      "execution_count": 8,
      "metadata": {
        "colab": {
          "base_uri": "https://localhost:8080/"
        },
        "id": "AlW8w8cMuOJH",
        "outputId": "35fb102d-0ecd-4b9b-b8eb-b0dfdaa9a26d"
      },
      "outputs": [
        {
          "metadata": {
            "tags": null
          },
          "name": "stdout",
          "output_type": "stream",
          "text": [
            "['meningioma', 'glioma', 'notumor', 'pituitary']\n"
          ]
        }
      ],
      "source": [
        "print(os.listdir('/content/Training'))"
      ]
    },
    {
      "cell_type": "code",
      "execution_count": 9,
      "metadata": {
        "colab": {
          "base_uri": "https://localhost:8080/"
        },
        "id": "ZpcyS5HuuUmZ",
        "outputId": "fc4fb650-5861-43ab-d0c2-319a3cb0e70c"
      },
      "outputs": [
        {
          "metadata": {
            "tags": null
          },
          "name": "stdout",
          "output_type": "stream",
          "text": [
            "['Te-gl_0265.jpg', 'Te-gl_0257.jpg', 'Te-gl_0039.jpg', 'Te-gl_0209.jpg', 'Te-gl_0067.jpg', 'Te-gl_0036.jpg', 'Te-gl_0022.jpg', 'Te-gl_0266.jpg', 'Te-gl_0093.jpg', 'Te-gl_0106.jpg', 'Te-gl_0058.jpg', 'Te-gl_0116.jpg', 'Te-gl_0172.jpg', 'Te-gl_0190.jpg', 'Te-gl_0165.jpg', 'Te-gl_0271.jpg', 'Te-gl_0289.jpg', 'Te-gl_0072.jpg', 'Te-gl_0194.jpg', 'Te-gl_0284.jpg', 'Te-glTr_0007.jpg', 'Te-gl_0130.jpg', 'Te-gl_0218.jpg', 'Te-gl_0162.jpg', 'Te-gl_0214.jpg', 'Te-gl_0081.jpg', 'Te-gl_0025.jpg', 'Te-gl_0174.jpg', 'Te-gl_0228.jpg', 'Te-gl_0127.jpg', 'Te-gl_0045.jpg', 'Te-gl_0204.jpg', 'Te-gl_0208.jpg', 'Te-gl_0085.jpg', 'Te-gl_0210.jpg', 'Te-gl_0212.jpg', 'Te-gl_0073.jpg', 'Te-gl_0200.jpg', 'Te-glTr_0008.jpg', 'Te-gl_0024.jpg', 'Te-gl_0166.jpg', 'Te-gl_0032.jpg', 'Te-gl_0122.jpg', 'Te-gl_0051.jpg', 'Te-gl_0054.jpg', 'Te-gl_0294.jpg', 'Te-gl_0115.jpg', 'Te-gl_0108.jpg', 'Te-gl_0232.jpg', 'Te-gl_0285.jpg', 'Te-gl_0125.jpg', 'Te-glTr_0004.jpg', 'Te-gl_0068.jpg', 'Te-gl_0169.jpg', 'Te-gl_0291.jpg', 'Te-gl_0149.jpg', 'Te-gl_0202.jpg', 'Te-gl_0034.jpg', 'Te-gl_0248.jpg', 'Te-gl_0283.jpg', 'Te-gl_0139.jpg', 'Te-gl_0199.jpg', 'Te-gl_0011.jpg', 'Te-gl_0156.jpg', 'Te-gl_0298.jpg', 'Te-gl_0224.jpg', 'Te-gl_0263.jpg', 'Te-gl_0221.jpg', 'Te-gl_0074.jpg', 'Te-gl_0010.jpg', 'Te-gl_0092.jpg', 'Te-gl_0188.jpg', 'Te-gl_0087.jpg', 'Te-gl_0186.jpg', 'Te-gl_0167.jpg', 'Te-gl_0293.jpg', 'Te-gl_0053.jpg', 'Te-gl_0135.jpg', 'Te-gl_0089.jpg', 'Te-gl_0182.jpg', 'Te-gl_0114.jpg', 'Te-gl_0124.jpg', 'Te-gl_0102.jpg', 'Te-gl_0222.jpg', 'Te-gl_0057.jpg', 'Te-gl_0047.jpg', 'Te-gl_0062.jpg', 'Te-gl_0157.jpg', 'Te-gl_0150.jpg', 'Te-gl_0142.jpg', 'Te-gl_0173.jpg', 'Te-gl_0269.jpg', 'Te-gl_0241.jpg', 'Te-gl_0278.jpg', 'Te-gl_0211.jpg', 'Te-gl_0101.jpg', 'Te-gl_0273.jpg', 'Te-gl_0181.jpg', 'Te-gl_0021.jpg', 'Te-gl_0018.jpg', 'Te-gl_0158.jpg', 'Te-glTr_0009.jpg', 'Te-gl_0151.jpg', 'Te-gl_0131.jpg', 'Te-gl_0171.jpg', 'Te-gl_0195.jpg', 'Te-gl_0098.jpg', 'Te-glTr_0005.jpg', 'Te-gl_0240.jpg', 'Te-gl_0123.jpg', 'Te-gl_0082.jpg', 'Te-gl_0229.jpg', 'Te-gl_0237.jpg', 'Te-gl_0264.jpg', 'Te-gl_0223.jpg', 'Te-gl_0027.jpg', 'Te-gl_0050.jpg', 'Te-gl_0179.jpg', 'Te-gl_0016.jpg', 'Te-gl_0064.jpg', 'Te-gl_0111.jpg', 'Te-gl_0258.jpg', 'Te-gl_0060.jpg', 'Te-gl_0107.jpg', 'Te-gl_0153.jpg', 'Te-gl_0088.jpg', 'Te-gl_0113.jpg', 'Te-gl_0037.jpg', 'Te-gl_0141.jpg', 'Te-gl_0040.jpg', 'Te-gl_0234.jpg', 'Te-gl_0083.jpg', 'Te-gl_0203.jpg', 'Te-gl_0231.jpg', 'Te-gl_0160.jpg', 'Te-gl_0168.jpg', 'Te-gl_0249.jpg', 'Te-gl_0070.jpg', 'Te-gl_0247.jpg', 'Te-gl_0020.jpg', 'Te-gl_0239.jpg', 'Te-gl_0119.jpg', 'Te-gl_0196.jpg', 'Te-glTr_0000.jpg', 'Te-gl_0282.jpg', 'Te-gl_0252.jpg', 'Te-gl_0035.jpg', 'Te-glTr_0003.jpg', 'Te-gl_0238.jpg', 'Te-gl_0056.jpg', 'Te-gl_0197.jpg', 'Te-gl_0103.jpg', 'Te-gl_0148.jpg', 'Te-gl_0097.jpg', 'Te-gl_0109.jpg', 'Te-gl_0090.jpg', 'Te-gl_0227.jpg', 'Te-gl_0137.jpg', 'Te-gl_0023.jpg', 'Te-gl_0272.jpg', 'Te-gl_0262.jpg', 'Te-gl_0146.jpg', 'Te-gl_0049.jpg', 'Te-glTr_0001.jpg', 'Te-gl_0279.jpg', 'Te-gl_0094.jpg', 'Te-gl_0178.jpg', 'Te-gl_0154.jpg', 'Te-gl_0110.jpg', 'Te-gl_0052.jpg', 'Te-gl_0014.jpg', 'Te-gl_0226.jpg', 'Te-gl_0071.jpg', 'Te-gl_0159.jpg', 'Te-gl_0206.jpg', 'Te-gl_0219.jpg', 'Te-gl_0261.jpg', 'Te-gl_0044.jpg', 'Te-gl_0031.jpg', 'Te-gl_0215.jpg', 'Te-gl_0246.jpg', 'Te-gl_0095.jpg', 'Te-gl_0216.jpg', 'Te-gl_0079.jpg', 'Te-gl_0193.jpg', 'Te-gl_0140.jpg', 'Te-gl_0086.jpg', 'Te-gl_0295.jpg', 'Te-gl_0043.jpg', 'Te-gl_0120.jpg', 'Te-gl_0260.jpg', 'Te-gl_0117.jpg', 'Te-gl_0170.jpg', 'Te-gl_0134.jpg', 'Te-gl_0163.jpg', 'Te-gl_0055.jpg', 'Te-gl_0268.jpg', 'Te-gl_0012.jpg', 'Te-gl_0132.jpg', 'Te-gl_0256.jpg', 'Te-gl_0026.jpg', 'Te-gl_0080.jpg', 'Te-gl_0189.jpg', 'Te-gl_0235.jpg', 'Te-gl_0042.jpg', 'Te-gl_0243.jpg', 'Te-gl_0213.jpg', 'Te-gl_0029.jpg', 'Te-gl_0155.jpg', 'Te-gl_0138.jpg', 'Te-gl_0076.jpg', 'Te-gl_0183.jpg', 'Te-gl_0217.jpg', 'Te-gl_0145.jpg', 'Te-gl_0274.jpg', 'Te-gl_0028.jpg', 'Te-gl_0259.jpg', 'Te-gl_0245.jpg', 'Te-gl_0133.jpg', 'Te-gl_0205.jpg', 'Te-gl_0230.jpg', 'Te-gl_0286.jpg', 'Te-gl_0126.jpg', 'Te-gl_0104.jpg', 'Te-gl_0180.jpg', 'Te-gl_0059.jpg', 'Te-gl_0105.jpg', 'Te-gl_0201.jpg', 'Te-gl_0164.jpg', 'Te-gl_0121.jpg', 'Te-gl_0287.jpg', 'Te-gl_0061.jpg', 'Te-glTr_0006.jpg', 'Te-gl_0250.jpg', 'Te-gl_0091.jpg', 'Te-gl_0191.jpg', 'Te-gl_0038.jpg', 'Te-gl_0192.jpg', 'Te-gl_0100.jpg', 'Te-gl_0078.jpg', 'Te-gl_0296.jpg', 'Te-gl_0207.jpg', 'Te-gl_0255.jpg', 'Te-gl_0299.jpg', 'Te-gl_0220.jpg', 'Te-gl_0161.jpg', 'Te-gl_0176.jpg', 'Te-gl_0270.jpg', 'Te-gl_0290.jpg', 'Te-gl_0118.jpg', 'Te-gl_0276.jpg', 'Te-gl_0152.jpg', 'Te-gl_0144.jpg', 'Te-gl_0143.jpg', 'Te-gl_0017.jpg', 'Te-gl_0184.jpg', 'Te-gl_0041.jpg', 'Te-gl_0185.jpg', 'Te-gl_0187.jpg', 'Te-gl_0136.jpg', 'Te-gl_0096.jpg', 'Te-gl_0128.jpg', 'Te-gl_0147.jpg', 'Te-gl_0033.jpg', 'Te-gl_0129.jpg', 'Te-gl_0277.jpg', 'Te-gl_0099.jpg', 'Te-gl_0251.jpg', 'Te-gl_0254.jpg', 'Te-gl_0013.jpg', 'Te-gl_0019.jpg', 'Te-gl_0233.jpg', 'Te-gl_0063.jpg', 'Te-glTr_0002.jpg', 'Te-gl_0066.jpg', 'Te-gl_0075.jpg', 'Te-gl_0177.jpg', 'Te-gl_0046.jpg', 'Te-gl_0292.jpg', 'Te-gl_0281.jpg', 'Te-gl_0275.jpg', 'Te-gl_0242.jpg', 'Te-gl_0288.jpg', 'Te-gl_0077.jpg', 'Te-gl_0244.jpg', 'Te-gl_0030.jpg', 'Te-gl_0084.jpg', 'Te-gl_0069.jpg', 'Te-gl_0015.jpg', 'Te-gl_0175.jpg', 'Te-gl_0267.jpg', 'Te-gl_0198.jpg', 'Te-gl_0253.jpg', 'Te-gl_0048.jpg', 'Te-gl_0280.jpg', 'Te-gl_0065.jpg', 'Te-gl_0297.jpg', 'Te-gl_0236.jpg', 'Te-gl_0225.jpg', 'Te-gl_0112.jpg']\n"
          ]
        }
      ],
      "source": [
        "print(os.listdir('/content/Testing/glioma'))"
      ]
    },
    {
      "cell_type": "code",
      "execution_count": 10,
      "metadata": {
        "colab": {
          "base_uri": "https://localhost:8080/"
        },
        "id": "wbo83nDTMvph",
        "outputId": "03503bc6-6aa1-4306-a558-7430a6f40b2e"
      },
      "outputs": [
        {
          "metadata": {
            "tags": null
          },
          "name": "stdout",
          "output_type": "stream",
          "text": [
            "300\n"
          ]
        }
      ],
      "source": [
        "print(len(os.listdir('/content/Testing/glioma')))"
      ]
    },
    {
      "cell_type": "code",
      "execution_count": 11,
      "metadata": {
        "colab": {
          "base_uri": "https://localhost:8080/"
        },
        "id": "t_NLKOYRM_JY",
        "outputId": "fc1a730c-bcdb-4e12-a398-e1fa18f89f3c"
      },
      "outputs": [
        {
          "metadata": {
            "tags": null
          },
          "name": "stdout",
          "output_type": "stream",
          "text": [
            "1321\n"
          ]
        }
      ],
      "source": [
        "print(len(os.listdir('/content/Training/glioma')))"
      ]
    },
    {
      "cell_type": "code",
      "execution_count": 12,
      "metadata": {
        "colab": {
          "base_uri": "https://localhost:8080/"
        },
        "id": "yIrUh5r1nCWF",
        "outputId": "2cd5033a-6b6f-4525-cb8c-9dab1aeb6061"
      },
      "outputs": [
        {
          "metadata": {
            "tags": null
          },
          "name": "stdout",
          "output_type": "stream",
          "text": [
            "1321\n",
            "1339\n",
            "1595\n",
            "1457\n"
          ]
        }
      ],
      "source": [
        "print(len(os.listdir('/content/Training/glioma')))\n",
        "print(len(os.listdir('/content/Training/meningioma')))\n",
        "print(len(os.listdir('/content/Training/notumor')))\n",
        "print(len(os.listdir('/content/Training/pituitary')))"
      ]
    },
    {
      "cell_type": "code",
      "execution_count": null,
      "metadata": {
        "colab": {
          "base_uri": "https://localhost:8080/"
        },
        "id": "uGwxh1dVndVQ",
        "outputId": "ce3a1538-0497-42d3-b592-a9fba0d0a8ab"
      },
      "outputs": [
        {
          "metadata": {
            "tags": null
          },
          "name": "stdout",
          "output_type": "stream",
          "text": [
            "300\n",
            "306\n",
            "405\n",
            "300\n"
          ]
        }
      ],
      "source": [
        "print(len(os.listdir('/content/Testing/glioma')))\n",
        "print(len(os.listdir('/content/Testing/meningioma')))\n",
        "print(len(os.listdir('/content/Testing/notumor')))\n",
        "print(len(os.listdir('/content/Testing/pituitary')))\n"
      ]
    },
    {
      "cell_type": "code",
      "execution_count": null,
      "metadata": {
        "colab": {
          "base_uri": "https://localhost:8080/"
        },
        "id": "rbuwc7iwhg31",
        "outputId": "22ed20ff-4c96-4fef-b429-3e59a6bebf82"
      },
      "outputs": [
        {
          "metadata": {
            "tags": null
          },
          "name": "stdout",
          "output_type": "stream",
          "text": [
            "4\n"
          ]
        }
      ],
      "source": [
        "print(len(os.listdir('/content/Training')))"
      ]
    },
    {
      "cell_type": "code",
      "execution_count": null,
      "metadata": {
        "id": "K4-i6K2TNKFt"
      },
      "outputs": [],
      "source": [
        "train_data='/content/Training'"
      ]
    },
    {
      "cell_type": "code",
      "execution_count": null,
      "metadata": {
        "colab": {
          "base_uri": "https://localhost:8080/"
        },
        "id": "xfb5G3pIhjha",
        "outputId": "27b50010-c574-4b3d-8ac9-fe2c85ff87bd"
      },
      "outputs": [
        {
          "metadata": {
            "tags": null
          },
          "name": "stdout",
          "output_type": "stream",
          "text": [
            "17\n"
          ]
        }
      ],
      "source": [
        "print(len(train_data))"
      ]
    },
    {
      "cell_type": "code",
      "execution_count": null,
      "metadata": {
        "id": "uT1yWGm5Nr5i"
      },
      "outputs": [],
      "source": [
        "test_data='/content/Testing'"
      ]
    },
    {
      "cell_type": "code",
      "execution_count": null,
      "metadata": {
        "colab": {
          "base_uri": "https://localhost:8080/"
        },
        "id": "WLBOBm1ChzY8",
        "outputId": "acd8e091-74fa-45d8-a24a-46e4adff29b6"
      },
      "outputs": [
        {
          "metadata": {
            "tags": null
          },
          "name": "stdout",
          "output_type": "stream",
          "text": [
            "16\n"
          ]
        }
      ],
      "source": [
        "print(len(test_data))"
      ]
    },
    {
      "cell_type": "code",
      "execution_count": null,
      "metadata": {
        "colab": {
          "base_uri": "https://localhost:8080/"
        },
        "id": "At3YV6lMNwPX",
        "outputId": "c7ed85f5-7716-4e08-c888-c1851870bcfb"
      },
      "outputs": [
        {
          "data": {
            "text/plain": [
              "str"
            ]
          },
          "execution_count": 19,
          "metadata": {},
          "output_type": "execute_result"
        }
      ],
      "source": [
        "type(train_data)"
      ]
    },
    {
      "cell_type": "code",
      "execution_count": null,
      "metadata": {
        "colab": {
          "base_uri": "https://localhost:8080/"
        },
        "id": "o0DKxmzPN0K7",
        "outputId": "a4efa4a4-834e-4eb0-b1f9-f8a23fd0b877"
      },
      "outputs": [
        {
          "data": {
            "text/plain": [
              "str"
            ]
          },
          "execution_count": 20,
          "metadata": {},
          "output_type": "execute_result"
        }
      ],
      "source": [
        "type(test_data)"
      ]
    },
    {
      "cell_type": "code",
      "execution_count": null,
      "metadata": {
        "id": "HVckrikngm3O"
      },
      "outputs": [],
      "source": []
    },
    {
      "cell_type": "code",
      "execution_count": null,
      "metadata": {
        "colab": {
          "base_uri": "https://localhost:8080/",
          "height": 435
        },
        "id": "gOMEki1jOPVG",
        "outputId": "d293a5ce-605e-4fd6-8a1e-c6676148b36b"
      },
      "outputs": [
        {
          "data": {
            "image/png": "[encoded data removed]",
            "text/plain": [
              "<Figure size 640x480 with 1 Axes>"
            ]
          },
          "metadata": {},
          "output_type": "display_data"
        }
      ],
      "source": [
        "train_image='/content/Training/glioma/Tr-glTr_0000.jpg'\n",
        "img=mpimg.imread(train_image)\n",
        "plt.imshow(img)\n",
        "plt.show()"
      ]
    },
    {
      "cell_type": "code",
      "execution_count": null,
      "metadata": {
        "colab": {
          "base_uri": "https://localhost:8080/",
          "height": 435
        },
        "id": "Mg0v8InROv7q",
        "outputId": "8441af1f-bf5e-4ea8-dc6a-3d6e89c779fc"
      },
      "outputs": [
        {
          "data": {
            "image/png": "[encoded data removed]",
            "text/plain": [
              "<Figure size 640x480 with 1 Axes>"
            ]
          },
          "metadata": {},
          "output_type": "display_data"
        }
      ],
      "source": [
        "train_image='/content/Training/glioma/Tr-gl_0083.jpg'\n",
        "img=mpimg.imread(train_image)\n",
        "plt.imshow(img)\n",
        "plt.show()"
      ]
    },
    {
      "cell_type": "code",
      "execution_count": null,
      "metadata": {
        "colab": {
          "base_uri": "https://localhost:8080/",
          "height": 435
        },
        "id": "rqvywRNCPJW3",
        "outputId": "b8c883f4-d8e6-4f36-848f-bc6715cef051"
      },
      "outputs": [
        {
          "data": {
            "image/png": "[encoded data removed]",
            "text/plain": [
              "<Figure size 640x480 with 1 Axes>"
            ]
          },
          "metadata": {},
          "output_type": "display_data"
        }
      ],
      "source": [
        "test_image='/content/Testing/notumor/Te-no_0018.jpg'\n",
        "img=mpimg.imread(test_image)\n",
        "\n",
        "plt.imshow(img)\n",
        "plt.show()"
      ]
    },
    {
      "cell_type": "code",
      "execution_count": null,
      "metadata": {
        "colab": {
          "base_uri": "https://localhost:8080/",
          "height": 1000
        },
        "id": "PbUI6dZTPhsj",
        "outputId": "09ba40fa-1236-44c4-8dbf-5e6acfedafdc"
      },
      "outputs": [
        {
          "data": {
            "image/png": "[encoded data removed]",
            "text/plain": [
              "<Figure size 640x480 with 1 Axes>"
            ]
          },
          "metadata": {},
          "output_type": "display_data"
        },
        {
          "metadata": {
            "tags": null
          },
          "name": "stdout",
          "output_type": "stream",
          "text": [
            "[[[110 110 110]\n",
            "  [ 32  32  32]\n",
            "  [ 34  34  34]\n",
            "  ...\n",
            "  [ 33  33  33]\n",
            "  [ 32  32  32]\n",
            "  [105 105 105]]\n",
            "\n",
            " [[ 78  78  78]\n",
            "  [  0   0   0]\n",
            "  [  2   2   2]\n",
            "  ...\n",
            "  [  3   3   3]\n",
            "  [  1   1   1]\n",
            "  [ 75  75  75]]\n",
            "\n",
            " [[ 77  77  77]\n",
            "  [  0   0   0]\n",
            "  [  0   0   0]\n",
            "  ...\n",
            "  [  2   2   2]\n",
            "  [  1   1   1]\n",
            "  [ 76  76  76]]\n",
            "\n",
            " ...\n",
            "\n",
            " [[ 81  81  81]\n",
            "  [  2   2   2]\n",
            "  [  2   2   2]\n",
            "  ...\n",
            "  [  4   4   4]\n",
            "  [  4   4   4]\n",
            "  [ 79  79  79]]\n",
            "\n",
            " [[ 81  81  81]\n",
            "  [  2   2   2]\n",
            "  [  1   1   1]\n",
            "  ...\n",
            "  [  2   2   2]\n",
            "  [  3   3   3]\n",
            "  [ 79  79  79]]\n",
            "\n",
            " [[ 80  80  80]\n",
            "  [  1   1   1]\n",
            "  [  1   1   1]\n",
            "  ...\n",
            "  [  1   1   1]\n",
            "  [  2   2   2]\n",
            "  [ 78  78  78]]]\n"
          ]
        }
      ],
      "source": [
        "test_image='/content/Testing/notumor/Te-no_0026.jpg'\n",
        "img=mpimg.imread(test_image)\n",
        "plt.imshow(img)\n",
        "plt.show()\n",
        "print(img)"
      ]
    },
    {
      "cell_type": "code",
      "execution_count": null,
      "metadata": {
        "colab": {
          "base_uri": "https://localhost:8080/"
        },
        "id": "0i7G0Qc0Q5HK",
        "outputId": "ba335c7a-af27-4ec2-d962-336eaf45a621"
      },
      "outputs": [
        {
          "data": {
            "text/plain": [
              "numpy.ndarray"
            ]
          },
          "execution_count": 25,
          "metadata": {},
          "output_type": "execute_result"
        }
      ],
      "source": [
        "type(img)\n"
      ]
    },
    {
      "cell_type": "code",
      "execution_count": null,
      "metadata": {
        "colab": {
          "base_uri": "https://localhost:8080/"
        },
        "id": "CKuSli1zVsy9",
        "outputId": "3a08d694-3a4f-495b-e455-c32cd593330a"
      },
      "outputs": [
        {
          "data": {
            "text/plain": [
              "(228, 236, 3)"
            ]
          },
          "execution_count": 26,
          "metadata": {},
          "output_type": "execute_result"
        }
      ],
      "source": [
        "img.shape"
      ]
    },
    {
      "cell_type": "code",
      "execution_count": null,
      "metadata": {
        "colab": {
          "base_uri": "https://localhost:8080/"
        },
        "id": "L7fGMnJARbIW",
        "outputId": "d73aaff6-7b59-464a-e4cd-cf4b6103f062"
      },
      "outputs": [
        {
          "data": {
            "text/plain": [
              "3"
            ]
          },
          "execution_count": 27,
          "metadata": {},
          "output_type": "execute_result"
        }
      ],
      "source": [
        "\n",
        "img.ndim"
      ]
    },
    {
      "cell_type": "code",
      "execution_count": null,
      "metadata": {
        "id": "c7Ic4ZA4Ru_K"
      },
      "outputs": [],
      "source": [
        "img_size=256\n",
        "batch_size=32"
      ]
    },
    {
      "cell_type": "markdown",
      "metadata": {
        "id": "0CMe_RuYlNRz"
      },
      "source": [
        "Data Augmentation\n"
      ]
    },
    {
      "cell_type": "code",
      "execution_count": null,
      "metadata": {
        "id": "pETErUN9lUw_"
      },
      "outputs": [],
      "source": [
        "from sklearn.preprocessing import LabelEncoder\n",
        "from skimage.transform import resize"
      ]
    },
    {
      "cell_type": "code",
      "execution_count": null,
      "metadata": {
        "id": "k6CSgr5ZlnGM"
      },
      "outputs": [],
      "source": [
        "from tensorflow.keras.preprocessing import image_dataset_from_directory\n"
      ]
    },
    {
      "cell_type": "code",
      "execution_count": null,
      "metadata": {
        "colab": {
          "base_uri": "https://localhost:8080/"
        },
        "id": "6IYIlfsRRBtP",
        "outputId": "e465d9af-186f-473d-adc4-6fc0d518408b"
      },
      "outputs": [
        {
          "metadata": {
            "tags": null
          },
          "name": "stdout",
          "output_type": "stream",
          "text": [
            "Found 5712 files belonging to 4 classes.\n",
            "Found 1311 files belonging to 4 classes.\n",
            "(32, 256, 256, 3) (32, 4)\n",
            "(32, 256, 256, 3) (32, 4)\n"
          ]
        }
      ],
      "source": [
        "train_ds = image_dataset_from_directory(\n",
        "    '/content/Training',\n",
        "    # label_mode='int',\n",
        "    shuffle=True,\n",
        "    label_mode='categorical',\n",
        "    seed=123,\n",
        "    image_size=(img_size,img_size),\n",
        "    batch_size=32\n",
        ")\n",
        "\n",
        "test_ds = image_dataset_from_directory(\n",
        "    '/content/Testing',\n",
        "    # label_mode='int',\n",
        "    shuffle=True,\n",
        "    label_mode='categorical',\n",
        "    seed=123,\n",
        "    image_size=(img_size,img_size),\n",
        "    batch_size=32\n",
        ")\n",
        "\n",
        "for x, y in train_ds.take(1):\n",
        "  print(x.shape, y.shape)\n",
        "\n",
        "for x, y in test_ds.take(1):\n",
        "  print(x.shape, y.shape)"
      ]
    },
    {
      "cell_type": "code",
      "execution_count": 32,
      "metadata": {
        "colab": {
          "base_uri": "https://localhost:8080/"
        },
        "id": "9wa57q7GRBpx",
        "outputId": "c4a9e78f-cbab-49a2-8127-388290e8304a"
      },
      "outputs": [
        {
          "metadata": {
            "tags": null
          },
          "name": "stdout",
          "output_type": "stream",
          "text": [
            "['glioma', 'meningioma', 'notumor', 'pituitary']\n"
          ]
        }
      ],
      "source": [
        "class_names = train_ds.class_names\n",
        "print(class_names)"
      ]
    },
    {
      "cell_type": "code",
      "execution_count": null,
      "metadata": {
        "colab": {
          "base_uri": "https://localhost:8080/"
        },
        "id": "1ZS_FrhkRBmm",
        "outputId": "8e5a6402-5d86-44ac-d3c9-115244de7120"
      },
      "outputs": [
        {
          "metadata": {
            "tags": null
          },
          "name": "stdout",
          "output_type": "stream",
          "text": [
            "Number of training batches: 179\n",
            "Number of testing batches: 41\n"
          ]
        }
      ],
      "source": [
        "print('Number of training batches: %d' % tf.data.experimental.cardinality(train_ds).numpy())\n",
        "print('Number of testing batches: %d' % tf.data.experimental.cardinality(test_ds).numpy())"
      ]
    },
    {
      "cell_type": "code",
      "execution_count": null,
      "metadata": {
        "id": "nM1IBhbhRBjc"
      },
      "outputs": [],
      "source": [
        "AUTOTUNE = tf.data.AUTOTUNE\n",
        "\n",
        "train_ds = train_ds.cache().shuffle(1000).prefetch(buffer_size=AUTOTUNE)\n",
        "test_ds = test_ds.cache().prefetch(buffer_size=AUTOTUNE)"
      ]
    },
    {
      "cell_type": "code",
      "execution_count": null,
      "metadata": {
        "id": "Pwoz7hmSRBgd"
      },
      "outputs": [],
      "source": [
        "normalization_layer = layers.Rescaling(1./255)"
      ]
    },
    {
      "cell_type": "code",
      "execution_count": null,
      "metadata": {
        "colab": {
          "base_uri": "https://localhost:8080/"
        },
        "id": "1PnLI0XKRBdH",
        "outputId": "8b84988e-01a1-4606-caf7-eb1d96c87d57"
      },
      "outputs": [
        {
          "metadata": {
            "tags": null
          },
          "name": "stdout",
          "output_type": "stream",
          "text": [
            "0.09570702 0.99852175\n"
          ]
        }
      ],
      "source": [
        "normalized_ds = train_ds.map(lambda x, y: (normalization_layer(x), y))\n",
        "normalized_test_ds = test_ds.map(lambda x, y: (normalization_layer(x), y))\n",
        "image_batch, labels_batch = next(iter(normalized_ds))\n",
        "first_image = image_batch[0]\n",
        "print(np.min(first_image), np.max(first_image))"
      ]
    },
    {
      "cell_type": "code",
      "execution_count": null,
      "metadata": {
        "id": "OuqRcQS-mIF4"
      },
      "outputs": [],
      "source": [
        "from tensorflow.keras.models import Sequential\n",
        "from tensorflow.keras.layers import Conv2D, MaxPooling2D, Flatten, Dense"
      ]
    },
    {
      "cell_type": "code",
      "execution_count": null,
      "metadata": {
        "id": "2Ct6aa7rRBZ5",
        "colab": {
          "base_uri": "https://localhost:8080/"
        },
        "outputId": "50e90e5d-3be9-43cc-d09a-fb24df22ac4a"
      },
      "outputs": [
        {
          "metadata": {
            "tags": null
          },
          "name": "stderr",
          "output_type": "stream",
          "text": [
            "/usr/local/lib/python3.10/dist-packages/keras/src/layers/convolutional/base_conv.py:107: UserWarning: Do not pass an `input_shape`/`input_dim` argument to a layer. When using Sequential models, prefer using an `Input(shape)` object as the first layer in the model instead.\n",
            "  super().__init__(activity_regularizer=activity_regularizer, **kwargs)\n"
          ]
        }
      ],
      "source": [
        "model = Sequential()\n",
        "model.add(Conv2D(32, (3, 3), activation='relu', input_shape=(img_size,img_size, 3)))\n",
        "model.add(MaxPooling2D((2, 2)))\n",
        "model.add(Conv2D(64, (3, 3), activation='relu'))\n",
        "model.add(MaxPooling2D((2, 2)))\n",
        "model.add(Flatten())\n",
        "model.add(Dense(512, activation='relu'))\n",
        "model.add(Dense(128, activation='relu'))\n",
        "model.add(Dense(64, activation='relu'))\n",
        "model.add(Dense(4, activation='softmax'))"
      ]
    },
    {
      "cell_type": "code",
      "execution_count": null,
      "metadata": {
        "id": "B3A4SpuwRelp"
      },
      "outputs": [],
      "source": []
    },
    {
      "cell_type": "code",
      "execution_count": null,
      "metadata": {
        "colab": {
          "base_uri": "https://localhost:8080/",
          "height": 417
        },
        "id": "VqBJEgmTRgAM",
        "outputId": "31df8386-a9fb-42f0-bf04-1d0f559f7c8a"
      },
      "outputs": [
        {
          "data": {
            "text/html": [
              "<pre style=\"white-space:pre;overflow-x:auto;line-height:normal;font-family:Menlo,'DejaVu Sans Mono',consolas,'Courier New',monospace\"><span style=\"font-weight: bold\">Model: \"sequential\"</span>\n",
              "</pre>\n"
            ],
            "text/plain": [
              "\u001b[1mModel: \"sequential\"\u001b[0m\n"
            ]
          },
          "metadata": {},
          "output_type": "display_data"
        },
        {
          "data": {
            "text/html": [
              "<pre style=\"white-space:pre;overflow-x:auto;line-height:normal;font-family:Menlo,'DejaVu Sans Mono',consolas,'Courier New',monospace\">┏━━━━━━━━━━━━━━━━━━━━━━━━━━━━━━━━━━━━━━┳━━━━━━━━━━━━━━━━━━━━━━━━━━━━━┳━━━━━━━━━━━━━━━━━┓\n",
              "┃<span style=\"font-weight: bold\"> Layer (type)                         </span>┃<span style=\"font-weight: bold\"> Output Shape                </span>┃<span style=\"font-weight: bold\">         Param # </span>┃\n",
              "┡━━━━━━━━━━━━━━━━━━━━━━━━━━━━━━━━━━━━━━╇━━━━━━━━━━━━━━━━━━━━━━━━━━━━━╇━━━━━━━━━━━━━━━━━┩\n",
              "│ conv2d (<span style=\"color: #0087ff; text-decoration-color: #0087ff\">Conv2D</span>)                      │ (<span style=\"color: #00d7ff; text-decoration-color: #00d7ff\">None</span>, <span style=\"color: #00af00; text-decoration-color: #00af00\">254</span>, <span style=\"color: #00af00; text-decoration-color: #00af00\">254</span>, <span style=\"color: #00af00; text-decoration-color: #00af00\">32</span>)        │             <span style=\"color: #00af00; text-decoration-color: #00af00\">896</span> │\n",
              "├──────────────────────────────────────┼─────────────────────────────┼─────────────────┤\n",
              "│ max_pooling2d (<span style=\"color: #0087ff; text-decoration-color: #0087ff\">MaxPooling2D</span>)         │ (<span style=\"color: #00d7ff; text-decoration-color: #00d7ff\">None</span>, <span style=\"color: #00af00; text-decoration-color: #00af00\">127</span>, <span style=\"color: #00af00; text-decoration-color: #00af00\">127</span>, <span style=\"color: #00af00; text-decoration-color: #00af00\">32</span>)        │               <span style=\"color: #00af00; text-decoration-color: #00af00\">0</span> │\n",
              "├──────────────────────────────────────┼─────────────────────────────┼─────────────────┤\n",
              "│ conv2d_1 (<span style=\"color: #0087ff; text-decoration-color: #0087ff\">Conv2D</span>)                    │ (<span style=\"color: #00d7ff; text-decoration-color: #00d7ff\">None</span>, <span style=\"color: #00af00; text-decoration-color: #00af00\">125</span>, <span style=\"color: #00af00; text-decoration-color: #00af00\">125</span>, <span style=\"color: #00af00; text-decoration-color: #00af00\">64</span>)        │          <span style=\"color: #00af00; text-decoration-color: #00af00\">18,496</span> │\n",
              "├──────────────────────────────────────┼─────────────────────────────┼─────────────────┤\n",
              "│ max_pooling2d_1 (<span style=\"color: #0087ff; text-decoration-color: #0087ff\">MaxPooling2D</span>)       │ (<span style=\"color: #00d7ff; text-decoration-color: #00d7ff\">None</span>, <span style=\"color: #00af00; text-decoration-color: #00af00\">62</span>, <span style=\"color: #00af00; text-decoration-color: #00af00\">62</span>, <span style=\"color: #00af00; text-decoration-color: #00af00\">64</span>)          │               <span style=\"color: #00af00; text-decoration-color: #00af00\">0</span> │\n",
              "├──────────────────────────────────────┼─────────────────────────────┼─────────────────┤\n",
              "│ flatten (<span style=\"color: #0087ff; text-decoration-color: #0087ff\">Flatten</span>)                    │ (<span style=\"color: #00d7ff; text-decoration-color: #00d7ff\">None</span>, <span style=\"color: #00af00; text-decoration-color: #00af00\">246016</span>)              │               <span style=\"color: #00af00; text-decoration-color: #00af00\">0</span> │\n",
              "├──────────────────────────────────────┼─────────────────────────────┼─────────────────┤\n",
              "│ dense (<span style=\"color: #0087ff; text-decoration-color: #0087ff\">Dense</span>)                        │ (<span style=\"color: #00d7ff; text-decoration-color: #00d7ff\">None</span>, <span style=\"color: #00af00; text-decoration-color: #00af00\">512</span>)                 │     <span style=\"color: #00af00; text-decoration-color: #00af00\">125,960,704</span> │\n",
              "├──────────────────────────────────────┼─────────────────────────────┼─────────────────┤\n",
              "│ dense_1 (<span style=\"color: #0087ff; text-decoration-color: #0087ff\">Dense</span>)                      │ (<span style=\"color: #00d7ff; text-decoration-color: #00d7ff\">None</span>, <span style=\"color: #00af00; text-decoration-color: #00af00\">128</span>)                 │          <span style=\"color: #00af00; text-decoration-color: #00af00\">65,664</span> │\n",
              "├──────────────────────────────────────┼─────────────────────────────┼─────────────────┤\n",
              "│ dense_2 (<span style=\"color: #0087ff; text-decoration-color: #0087ff\">Dense</span>)                      │ (<span style=\"color: #00d7ff; text-decoration-color: #00d7ff\">None</span>, <span style=\"color: #00af00; text-decoration-color: #00af00\">64</span>)                  │           <span style=\"color: #00af00; text-decoration-color: #00af00\">8,256</span> │\n",
              "├──────────────────────────────────────┼─────────────────────────────┼─────────────────┤\n",
              "│ dense_3 (<span style=\"color: #0087ff; text-decoration-color: #0087ff\">Dense</span>)                      │ (<span style=\"color: #00d7ff; text-decoration-color: #00d7ff\">None</span>, <span style=\"color: #00af00; text-decoration-color: #00af00\">4</span>)                   │             <span style=\"color: #00af00; text-decoration-color: #00af00\">260</span> │\n",
              "└──────────────────────────────────────┴─────────────────────────────┴─────────────────┘\n",
              "</pre>\n"
            ],
            "text/plain": [
              "┏━━━━━━━━━━━━━━━━━━━━━━━━━━━━━━━━━━━━━━┳━━━━━━━━━━━━━━━━━━━━━━━━━━━━━┳━━━━━━━━━━━━━━━━━┓\n",
              "┃\u001b[1m \u001b[0m\u001b[1mLayer (type)                        \u001b[0m\u001b[1m \u001b[0m┃\u001b[1m \u001b[0m\u001b[1mOutput Shape               \u001b[0m\u001b[1m \u001b[0m┃\u001b[1m \u001b[0m\u001b[1m        Param #\u001b[0m\u001b[1m \u001b[0m┃\n",
              "┡━━━━━━━━━━━━━━━━━━━━━━━━━━━━━━━━━━━━━━╇━━━━━━━━━━━━━━━━━━━━━━━━━━━━━╇━━━━━━━━━━━━━━━━━┩\n",
              "│ conv2d (\u001b[38;5;33mConv2D\u001b[0m)                      │ (\u001b[38;5;45mNone\u001b[0m, \u001b[38;5;34m254\u001b[0m, \u001b[38;5;34m254\u001b[0m, \u001b[38;5;34m32\u001b[0m)        │             \u001b[38;5;34m896\u001b[0m │\n",
              "├──────────────────────────────────────┼─────────────────────────────┼─────────────────┤\n",
              "│ max_pooling2d (\u001b[38;5;33mMaxPooling2D\u001b[0m)         │ (\u001b[38;5;45mNone\u001b[0m, \u001b[38;5;34m127\u001b[0m, \u001b[38;5;34m127\u001b[0m, \u001b[38;5;34m32\u001b[0m)        │               \u001b[38;5;34m0\u001b[0m │\n",
              "├──────────────────────────────────────┼─────────────────────────────┼─────────────────┤\n",
              "│ conv2d_1 (\u001b[38;5;33mConv2D\u001b[0m)                    │ (\u001b[38;5;45mNone\u001b[0m, \u001b[38;5;34m125\u001b[0m, \u001b[38;5;34m125\u001b[0m, \u001b[38;5;34m64\u001b[0m)        │          \u001b[38;5;34m18,496\u001b[0m │\n",
              "├──────────────────────────────────────┼─────────────────────────────┼─────────────────┤\n",
              "│ max_pooling2d_1 (\u001b[38;5;33mMaxPooling2D\u001b[0m)       │ (\u001b[38;5;45mNone\u001b[0m, \u001b[38;5;34m62\u001b[0m, \u001b[38;5;34m62\u001b[0m, \u001b[38;5;34m64\u001b[0m)          │               \u001b[38;5;34m0\u001b[0m │\n",
              "├──────────────────────────────────────┼─────────────────────────────┼─────────────────┤\n",
              "│ flatten (\u001b[38;5;33mFlatten\u001b[0m)                    │ (\u001b[38;5;45mNone\u001b[0m, \u001b[38;5;34m246016\u001b[0m)              │               \u001b[38;5;34m0\u001b[0m │\n",
              "├──────────────────────────────────────┼─────────────────────────────┼─────────────────┤\n",
              "│ dense (\u001b[38;5;33mDense\u001b[0m)                        │ (\u001b[38;5;45mNone\u001b[0m, \u001b[38;5;34m512\u001b[0m)                 │     \u001b[38;5;34m125,960,704\u001b[0m │\n",
              "├──────────────────────────────────────┼─────────────────────────────┼─────────────────┤\n",
              "│ dense_1 (\u001b[38;5;33mDense\u001b[0m)                      │ (\u001b[38;5;45mNone\u001b[0m, \u001b[38;5;34m128\u001b[0m)                 │          \u001b[38;5;34m65,664\u001b[0m │\n",
              "├──────────────────────────────────────┼─────────────────────────────┼─────────────────┤\n",
              "│ dense_2 (\u001b[38;5;33mDense\u001b[0m)                      │ (\u001b[38;5;45mNone\u001b[0m, \u001b[38;5;34m64\u001b[0m)                  │           \u001b[38;5;34m8,256\u001b[0m │\n",
              "├──────────────────────────────────────┼─────────────────────────────┼─────────────────┤\n",
              "│ dense_3 (\u001b[38;5;33mDense\u001b[0m)                      │ (\u001b[38;5;45mNone\u001b[0m, \u001b[38;5;34m4\u001b[0m)                   │             \u001b[38;5;34m260\u001b[0m │\n",
              "└──────────────────────────────────────┴─────────────────────────────┴─────────────────┘\n"
            ]
          },
          "metadata": {},
          "output_type": "display_data"
        },
        {
          "data": {
            "text/html": [
              "<pre style=\"white-space:pre;overflow-x:auto;line-height:normal;font-family:Menlo,'DejaVu Sans Mono',consolas,'Courier New',monospace\"><span style=\"font-weight: bold\"> Total params: </span><span style=\"color: #00af00; text-decoration-color: #00af00\">126,054,276</span> (480.86 MB)\n",
              "</pre>\n"
            ],
            "text/plain": [
              "\u001b[1m Total params: \u001b[0m\u001b[38;5;34m126,054,276\u001b[0m (480.86 MB)\n"
            ]
          },
          "metadata": {},
          "output_type": "display_data"
        },
        {
          "data": {
            "text/html": [
              "<pre style=\"white-space:pre;overflow-x:auto;line-height:normal;font-family:Menlo,'DejaVu Sans Mono',consolas,'Courier New',monospace\"><span style=\"font-weight: bold\"> Trainable params: </span><span style=\"color: #00af00; text-decoration-color: #00af00\">126,054,276</span> (480.86 MB)\n",
              "</pre>\n"
            ],
            "text/plain": [
              "\u001b[1m Trainable params: \u001b[0m\u001b[38;5;34m126,054,276\u001b[0m (480.86 MB)\n"
            ]
          },
          "metadata": {},
          "output_type": "display_data"
        },
        {
          "data": {
            "text/html": [
              "<pre style=\"white-space:pre;overflow-x:auto;line-height:normal;font-family:Menlo,'DejaVu Sans Mono',consolas,'Courier New',monospace\"><span style=\"font-weight: bold\"> Non-trainable params: </span><span style=\"color: #00af00; text-decoration-color: #00af00\">0</span> (0.00 B)\n",
              "</pre>\n"
            ],
            "text/plain": [
              "\u001b[1m Non-trainable params: \u001b[0m\u001b[38;5;34m0\u001b[0m (0.00 B)\n"
            ]
          },
          "metadata": {},
          "output_type": "display_data"
        }
      ],
      "source": [
        "model.summary()"
      ]
    },
    {
      "cell_type": "code",
      "execution_count": null,
      "metadata": {
        "id": "CShAd_ylRm-v"
      },
      "outputs": [],
      "source": [
        "model.compile(optimizer='adam', loss='categorical_crossentropy', metrics=['accuracy'])"
      ]
    },
    {
      "cell_type": "code",
      "execution_count": null,
      "metadata": {
        "id": "dsbVHLoaRm7S"
      },
      "outputs": [],
      "source": []
    },
    {
      "cell_type": "code",
      "execution_count": 41,
      "metadata": {
        "colab": {
          "base_uri": "https://localhost:8080/"
        },
        "id": "52cewU4MRuuB",
        "outputId": "a1ec50d7-c7eb-46cb-f2e9-c26e01273ef9"
      },
      "outputs": [
        {
          "output_type": "stream",
          "name": "stdout",
          "text": [
            "Test loss: 1.3850444555282593\n",
            "Test accuracy: 0.25476735830307007\n",
            "Test loss: 1.3850444555282593\n",
            "Test accuracy: 0.25476735830307007\n"
          ]
        }
      ],
      "source": [
        "score = model.evaluate(normalized_test_ds, verbose=False)\n",
        "print('Test loss:', score[0])\n",
        "print('Test accuracy:', score[1])"
      ]
    },
    {
      "cell_type": "markdown",
      "metadata": {
        "id": "724jNWUbyQWp"
      },
      "source": [
        "Transfer learning\n"
      ]
    },
    {
      "cell_type": "code",
      "execution_count": null,
      "metadata": {
        "id": "AbId_ofeyP8O"
      },
      "outputs": [],
      "source": [
        "import tensorflow as tf\n",
        "from tensorflow.keras.applications import ResNet50\n",
        "from tensorflow.keras.models import Sequential\n",
        "from tensorflow.keras.layers import Dense, GlobalAveragePooling2D\n",
        "\n",
        "# Load the pre-trained ResNet50 model\n",
        "base_model = ResNet50(weights='imagenet', include_top=False, input_shape=(img_size, img_size, 3))\n",
        "\n",
        "# Freeze the base model layers\n",
        "base_model.trainable = False\n",
        "\n",
        "# Create a new model on top\n",
        "model = Sequential()\n",
        "model.add(base_model)\n",
        "model.add(GlobalAveragePooling2D())\n",
        "model.add(Dense(1024, activation='relu'))\n",
        "model.add(Dense(4, activation='softmax'))  # 4 output classes\n",
        "\n",
        "# Compile the model\n",
        "model.compile(optimizer='adam', loss='categorical_crossentropy', metrics=['accuracy'])\n",
        "\n",
        "# Print model summary\n",
        "model.summary()\n",
        "\n"
      ]
    },
    {
      "cell_type": "markdown",
      "metadata": {
        "id": "o87VKTcT-sXT"
      },
      "source": [
        "Unet\n"
      ]
    },
    {
      "cell_type": "code",
      "execution_count": null,
      "metadata": {
        "id": "5WoMBPLNGkCT"
      },
      "outputs": [],
      "source": [
        "from tensorflow.keras.models import Model\n",
        "from tensorflow.keras.layers import Input, Conv2D, MaxPooling2D, concatenate, UpSampling2D, Dense\n",
        "\n",
        "\n",
        "def unet(input_size=(256,256, 3)):\n",
        "    inputs = Input(input_size)\n",
        "\n",
        "    # Encoder\n",
        "    conv1 = Conv2D(64, 3, activation='relu', padding='same')(inputs)\n",
        "    conv1 = Conv2D(64, 3, activation='relu', padding='same')(conv1)\n",
        "    pool1 = MaxPooling2D(pool_size=(2, 2))(conv1)\n",
        "\n",
        "    conv2 = Conv2D(128, 3, activation='relu', padding='same')(pool1)\n",
        "    conv2 = Conv2D(128, 3, activation='relu', padding='same')(conv2)\n",
        "    pool2 = MaxPooling2D(pool_size=(2, 2))(conv2)\n",
        "\n",
        "    conv3 = Conv2D(256, 3, activation='relu', padding='same')(pool2)\n",
        "    conv3 = Conv2D(256, 3, activation='relu', padding='same')(conv3)\n",
        "    pool3 = MaxPooling2D(pool_size=(2, 2))(conv3)\n",
        "\n",
        "    conv4 = Conv2D(512, 3, activation='relu', padding='same')(pool3)\n",
        "    conv4 = Conv2D(512, 3, activation='relu', padding='same')(conv4)\n",
        "    pool4 = MaxPooling2D(pool_size=(2, 2))(conv4)\n",
        "\n",
        "    conv5 = Conv2D(1024, 3, activation='relu', padding='same')(pool4)\n",
        "    conv5 = Conv2D(1024, 3, activation='relu', padding='same')(conv5)\n",
        "    pool5 = MaxPooling2D(pool_size=(2, 2))(conv5)\n",
        "\n",
        "    conv6 = Conv2D(2048, 3, activation='relu', padding='same')(pool5)  # Define conv6\n",
        "    conv6 = Conv2D(2048, 3, activation='relu', padding='same')(conv6)\n",
        "\n",
        "\n",
        "    # Decoder\n",
        "    up7 = UpSampling2D(size=(2, 2))(conv6)\n",
        "    merge7 = concatenate([conv5, up7], axis=3)\n",
        "    conv7 = Conv2D(1024, 3, activation='relu', padding='same')(merge7) #adjust the number of filters\n",
        "    conv7 = Conv2D(1024, 3, activation='relu', padding='same')(conv7) #adjust the number of filters\n",
        "\n",
        "    up8 = UpSampling2D(size=(2, 2))(conv7)\n",
        "    merge8 = concatenate([conv4, up8], axis=3)\n",
        "    conv8 = Conv2D(512, 3, activation='relu', padding='same')(merge8) #adjust the number of filters\n",
        "    conv8 = Conv2D(512, 3, activation='relu', padding='same')(conv8) #adjust the number of filters\n",
        "\n",
        "    up9 = UpSampling2D(size=(2, 2))(conv8)\n",
        "    merge9 = concatenate([conv3, up9], axis=3)\n",
        "    conv9 = Conv2D(256, 3, activation='relu', padding='same')(merge9) #adjust the number of filters\n",
        "    conv9 = Conv2D(256, 3, activation='relu', padding='same')(conv9) #adjust the number of filters\n",
        "\n",
        "    up10 = UpSampling2D(size=(2, 2))(conv9)\n",
        "    merge10 = concatenate([conv2, up10])\n",
        "    flatten = tf.keras.layers.Flatten()(conv9) # Flatten the output of the last convolutional layer\n",
        "    outputs = Dense(4, activation='softmax')(flatten)  # 4 output classes with softmax activation\n",
        "\n",
        "    model1 = Model(inputs=[inputs], outputs=[outputs])\n",
        "    return model1\n",
        "model1 = unet()\n",
        "\n",
        "model1.summary()\n"
      ]
    },
    {
      "cell_type": "code",
      "execution_count": null,
      "metadata": {
        "id": "QPSZUwjA-v6K"
      },
      "outputs": [],
      "source": [
        "model1.compile(optimizer='adam', loss='binary_crossentropy', metrics=['accuracy'])"
      ]
    },
    {
      "cell_type": "code",
      "execution_count": null,
      "metadata": {
        "id": "X7l2Eyi8oyRS"
      },
      "outputs": [],
      "source": [
        "#history1=model1.fit(\n",
        "    #normalized_ds,\n",
        "    #validation_data=normalized_test_ds,\n",
        "    #epochs=1\n",
        "#)"
      ]
    },
    {
      "cell_type": "markdown",
      "metadata": {
        "id": "Ohx_wuohomyv"
      },
      "source": [
        "Random Forest\n"
      ]
    },
    {
      "cell_type": "code",
      "execution_count": null,
      "metadata": {
        "id": "KwBRGzdSomc2"
      },
      "outputs": [],
      "source": []
    },
    {
      "cell_type": "code",
      "execution_count": null,
      "metadata": {
        "id": "LeoxSzURohXQ"
      },
      "outputs": [],
      "source": [
        "import numpy as np\n",
        "\n",
        "# Extract features and labels for training data\n",
        "X_train = []\n",
        "y_train = []\n",
        "for images, labels in normalized_ds:\n",
        "    for i in range(images.shape[0]):\n",
        "        X_train.append(images[i].numpy().flatten())  # Flatten image data\n",
        "        y_train.append(np.argmax(labels[i].numpy()))  # Get class index\n",
        "\n",
        "X_train = np.array(X_train)\n",
        "y_train = np.array(y_train)\n",
        "\n",
        "# Extract features and labels for testing data\n",
        "X_test = []\n",
        "y_test = []\n",
        "for images, labels in normalized_test_ds:\n",
        "    for i in range(images.shape[0]):\n",
        "        X_test.append(images[i].numpy().flatten())\n",
        "        y_test.append(np.argmax(labels[i].numpy()))\n",
        "\n",
        "X_test = np.array(X_test)\n",
        "y_test = np.array(y_test)"
      ]
    },
    {
      "cell_type": "markdown",
      "metadata": {
        "id": "cuQ9NuYQHQkO"
      },
      "source": [
        "3D CNN Model\n"
      ]
    },
    {
      "cell_type": "code",
      "execution_count": null,
      "metadata": {
        "id": "NWs0AhuKHHrl"
      },
      "outputs": [],
      "source": [
        "import tensorflow as tf\n",
        "from tensorflow.keras.models import Sequential\n",
        "from tensorflow.keras.layers import Conv3D, MaxPooling3D, Flatten, Dense"
      ]
    },
    {
      "cell_type": "markdown",
      "metadata": {
        "id": "5qLZDpVbYv-T"
      },
      "source": []
    },
    {
      "cell_type": "code",
      "execution_count": null,
      "metadata": {
        "id": "bAGFhpUDLy0f"
      },
      "outputs": [],
      "source": [
        "model2 = Sequential()\n",
        "# add padding='same' to keep the output shape the same as the input shape in the depth dimension\n",
        "model2.add(Conv3D(32, (3, 3, 3), activation='relu', input_shape=(img_size, img_size, 1, 3), padding='same'))\n",
        "model2.add(MaxPooling3D((2, 2, 1)))\n",
        "model2.add(Conv3D(64, (3, 3, 3), activation='relu', padding='same'))\n",
        "model2.add(MaxPooling3D((2, 2, 1)))\n",
        "model2.add(Conv3D(128, (3, 3, 3), activation='relu', padding='same'))\n",
        "model2.add(MaxPooling3D((2, 2, 1)))\n",
        "model2.add(Conv3D(256, (3, 3, 3), activation='relu', padding='same'))\n",
        "model2.add(MaxPooling3D((2, 2, 1)))\n",
        "model2.add(Flatten())\n",
        "model2.add(Dense(128, activation='relu'))\n",
        "model2.add(Dense(4, activation='softmax'))  # 4 output classes"
      ]
    },
    {
      "cell_type": "code",
      "execution_count": null,
      "metadata": {
        "id": "Ywy1xRFZZM1R"
      },
      "outputs": [],
      "source": [
        "import os\n",
        "import matplotlib.image as mpimg\n",
        "import matplotlib.pyplot as plt\n",
        "from zipfile import ZipFile\n",
        "\n"
      ]
    },
    {
      "cell_type": "code",
      "execution_count": null,
      "metadata": {
        "id": "AzgoMpWO8RUa"
      },
      "outputs": [],
      "source": []
    },
    {
      "cell_type": "code",
      "execution_count": null,
      "metadata": {
        "id": "k1sUlDLwjmEm"
      },
      "outputs": [],
      "source": [
        "import os\n",
        "import matplotlib.image as mpimg\n",
        "import matplotlib.pyplot as plt\n",
        "from zipfile import ZipFile\n",
        "\n",
        "glioma_data = '/content/Training/glioma'  # Path to the directory containing images\n",
        "\n",
        "# Get a list of all image files in the directory\n",
        "image_files_glioma= [f for f in os.listdir(glioma_data) if os.path.isfile(os.path.join(glioma_data, f))]\n",
        "\n",
        "# Calculate the number of images\n",
        "num_images_glioma = len(image_files_glioma)\n",
        "print(f\"Number of images in the directory: {num_images_glioma}\")\n",
        "\n",
        "# Read and display the first image (you can modify this to loop through all images)\n",
        "if image_files_glioma:\n",
        "    img_path = os.path.join(glioma_data, image_files_glioma[999])\n",
        "    img = mpimg.imread(img_path)\n",
        "    plt.imshow(img)\n",
        "    plt.show()\n",
        "else:\n",
        "    print(\"No image files found in the directory.\")\n"
      ]
    },
    {
      "cell_type": "code",
      "execution_count": null,
      "metadata": {
        "id": "62T9KOf6Za_7"
      },
      "outputs": [],
      "source": [
        "notumor_data='/content/Training/notumor'\n",
        "\n",
        "image_files_notumor_data= [f for f in os.listdir(notumor_data) if os.path.isfile(os.path.join(notumor_data, f))]\n",
        "\n",
        "# Calculate the number of images\n",
        "num_images_notumor = len(image_files_notumor_data)\n",
        "print(f\"Number of images in the directory: {num_images_notumor}\")\n",
        "\n",
        "# Read and display the first image (you can modify this to loop through all images)\n",
        "if image_files_notumor_data:\n",
        "    img_path = os.path.join(notumor_data,\n",
        "image_files_notumor_data[999])\n",
        "    img = mpimg.imread(img_path)\n",
        "    plt.imshow(img)\n",
        "    plt.show()\n",
        "else:\n",
        "    print(\"No image files found in the directory.\")\n"
      ]
    },
    {
      "cell_type": "code",
      "execution_count": null,
      "metadata": {
        "id": "_SmjXMC3ocTM"
      },
      "outputs": [],
      "source": [
        "print(len(image_files_glioma))\n",
        "print(len(image_files_notumor_data))\n"
      ]
    },
    {
      "cell_type": "code",
      "execution_count": null,
      "metadata": {
        "id": "a40a7cinZgkz"
      },
      "outputs": [],
      "source": [
        "meningioma='/content/Training/meningioma'\n",
        "\n",
        "image_files_meningioma= [f for f in os.listdir(meningioma) if os.path.isfile(os.path.join(meningioma, f))]\n",
        "\n",
        "# Calculate the number of images\n",
        "num_images_meningioma = len(image_files_meningioma)\n",
        "print(f\"Number of images in the directory: {num_images_meningioma}\")\n",
        "\n",
        "# Read and display the first image (you can modify this to loop through all images)\n",
        "if image_files_meningioma:\n",
        "    img_path = os.path.join(meningioma, image_files_meningioma[999])\n",
        "    img = mpimg.imread(img_path)\n",
        "    plt.imshow(img)\n",
        "    plt.show()\n",
        "else:\n",
        "    print(\"No image files found in the directory.\")"
      ]
    },
    {
      "cell_type": "markdown",
      "metadata": {
        "id": "CroCjhS-7bD5"
      },
      "source": [
        "data of pituitary"
      ]
    },
    {
      "cell_type": "code",
      "execution_count": null,
      "metadata": {
        "id": "E6RYMYiNZs6v"
      },
      "outputs": [],
      "source": [
        "pituitary='/content/Training/pituitary'\n",
        "\n",
        "image_files_pituitary= [f for f in os.listdir(pituitary) if os.path.isfile(os.path.join(pituitary, f))]\n",
        "\n",
        "# Calculate the number of images\n",
        "num_images_pituitary = len(image_files_pituitary)\n",
        "print(f\"Number of images in the directory: {num_images_pituitary}\")\n",
        "\n",
        "# Read and display the first image (you can modify this to loop through all images)\n",
        "if image_files_pituitary:\n",
        "    img_path = os.path.join(pituitary, image_files_pituitary[999])\n",
        "    img = mpimg.imread(img_path)\n",
        "    plt.imshow(img)\n",
        "    plt.show()\n",
        "else:\n",
        "    print(\"No image files found in the directory.\")"
      ]
    },
    {
      "cell_type": "code",
      "execution_count": null,
      "metadata": {
        "id": "n1mvRRH-ruZh"
      },
      "outputs": [],
      "source": [
        "import tensorflow as tf\n",
        "from tensorflow.keras.layers import Input, Dense, Reshape, Flatten, Dropout, LeakyReLU, Conv2D, Conv2DTranspose\n",
        "from tensorflow.keras.models import Sequential, Model\n",
        "from tensorflow.keras.optimizers import Adam\n",
        "import numpy as np"
      ]
    },
    {
      "cell_type": "code",
      "execution_count": null,
      "metadata": {
        "id": "S4eCFa1F4gC4"
      },
      "outputs": [],
      "source": [
        "no_of_glioma=len(image_files_glioma)\n",
        "print(no_of_glioma)"
      ]
    },
    {
      "cell_type": "markdown",
      "metadata": {
        "id": "7D8O5NXdYaXC"
      },
      "source": [
        "Notumor"
      ]
    },
    {
      "cell_type": "code",
      "execution_count": null,
      "metadata": {
        "id": "Dnd8s4MYYFwI"
      },
      "outputs": [],
      "source": [
        "NOISE_DIM = 100\n",
        "BATCH_SIZE = 4\n",
        "STEPS_PER_EPOCH =num_images_notumor// BATCH_SIZE\n",
        "EPOCHS = 20\n",
        "SEED = 40\n",
        "WIDTH, HEIGHT, CHANNELS = 128, 128, 1\n",
        "\n",
        "OPTIMIZER = Adam(0.0002, 0.5)\n",
        "print(STEPS_PER_EPOCH)"
      ]
    },
    {
      "cell_type": "code",
      "execution_count": null,
      "metadata": {
        "id": "1-YUxO1YYFCq"
      },
      "outputs": [],
      "source": [
        "np.random.seed(SEED)\n",
        "idxs = np.random.randint(0, 155, 20)"
      ]
    },
    {
      "cell_type": "code",
      "execution_count": null,
      "metadata": {
        "id": "JbrskKlsYE_V"
      },
      "outputs": [],
      "source": [
        "import os\n",
        "\n",
        "orgin_path = '/content/Training/notumor'\n",
        "print(\"Files in directory:\")\n",
        "print(os.listdir(orgin_path))\n",
        "print(len(orgin_path))\n",
        "print(\"Number of files:\", len(os.listdir(orgin_path)))"
      ]
    },
    {
      "cell_type": "code",
      "execution_count": null,
      "metadata": {
        "id": "RcSQIfriYE7z"
      },
      "outputs": [],
      "source": []
    },
    {
      "cell_type": "code",
      "execution_count": null,
      "metadata": {
        "id": "SQaOqrnbZJHv"
      },
      "outputs": [],
      "source": [
        "import numpy as np\n",
        "from PIL import Image\n",
        "import os\n",
        "\n",
        "# Assuming image_files_glioma is your list of image file paths\n",
        "# and idxs is your NumPy array of indices\n",
        "\n",
        "# Convert the list to a NumPy array first\n",
        "image_files_notumor_data_np= np.array(image_files_notumor_data)\n",
        "\n",
        "# Use idxs to get paths\n",
        "X_train_paths =image_files_notumor_data_np[idxs]\n",
        "\n",
        "# Initialize an empty list to store image data\n",
        "X_train = []\n",
        "\n",
        "\n",
        "orgin_path = '/content/Training/notumor'\n",
        "\n",
        "# Load and preprocess each image\n",
        "for path in X_train_paths:\n",
        "    absolute_path = os.path.join(orgin_path, path)\n",
        "    print(f\"Checking path: {absolute_path}\")  # Debugging line\n",
        "\n",
        "    # Check if file exists\n",
        "    if os.path.exists(absolute_path):\n",
        "        image = Image.open(absolute_path).convert('L')  # Convert to grayscale\n",
        "        image = image.resize((WIDTH, HEIGHT))  # Resize image\n",
        "        image_np = np.array(image)  # Convert to NumPy array\n",
        "\n",
        "        # Normalize and append to X_train\n",
        "        X_train.append((image_np.astype(np.float32) - 127.5) / 127.5)\n",
        "    else:\n",
        "        print(f\"Warning: File not found: {absolute_path}\")\n",
        "\n",
        "# Convert X_train to a NumPy array\n",
        "X_train = np.array(X_train)\n",
        "\n",
        "# Check the shape before reshaping\n",
        "print(\"Shape before reshaping:\", X_train.shape)\n",
        "\n",
        "# Reshape images if necessary\n",
        "if X_train.size > 0:  # Check if there are any images loaded\n",
        "    X_train = X_train.reshape(-1, WIDTH, HEIGHT, CHANNELS)\n",
        "\n",
        "# Check final shape\n",
        "print(\"Final shape of X_train:\", X_train.shape)\n",
        "print(len(X_train))\n",
        "\n"
      ]
    },
    {
      "cell_type": "code",
      "execution_count": null,
      "metadata": {
        "id": "fwNHO1sZYE4f"
      },
      "outputs": [],
      "source": [
        "\n",
        "plt.figure(figsize=(20,8))\n",
        "for i in range(10):\n",
        "    axs = plt.subplot(2,5,i+1)\n",
        "    plt.imshow(X_train[i], cmap=\"gray\")\n",
        "    plt.axis('off')\n",
        "    axs.set_xticklabels([])\n",
        "    axs.set_yticklabels([])\n",
        "    plt.subplots_adjust(wspace=None, hspace=None)\n",
        "plt.tight_layout()"
      ]
    },
    {
      "cell_type": "code",
      "execution_count": null,
      "metadata": {
        "id": "FF_mQ_OHZgQ9"
      },
      "outputs": [],
      "source": []
    },
    {
      "cell_type": "code",
      "execution_count": null,
      "metadata": {
        "id": "x84v8emJ3JQz"
      },
      "outputs": [],
      "source": [
        "NOISE_DIM = 100\n",
        "BATCH_SIZE = 4\n",
        "STEPS_PER_EPOCH =num_images_pituitary // BATCH_SIZE\n",
        "EPOCHS = 20\n",
        "SEED = 40\n",
        "WIDTH, HEIGHT, CHANNELS = 128, 128, 1\n",
        "\n",
        "OPTIMIZER = Adam(0.0002, 0.5)\n",
        "print(STEPS_PER_EPOCH)"
      ]
    },
    {
      "cell_type": "code",
      "execution_count": null,
      "metadata": {
        "id": "-kmcSo6x6_eW"
      },
      "outputs": [],
      "source": [
        "np.random.seed(SEED)\n",
        "idxs = np.random.randint(0, 155, 20)"
      ]
    },
    {
      "cell_type": "code",
      "execution_count": null,
      "metadata": {
        "id": "TI0GZYQz6_ay"
      },
      "outputs": [],
      "source": [
        "type(image_files_pituitary)"
      ]
    },
    {
      "cell_type": "code",
      "execution_count": null,
      "metadata": {
        "id": "J_z-oe9s6_XE"
      },
      "outputs": [],
      "source": [
        "import os\n",
        "\n",
        "orgi_path = '/content/Training/pituitary'\n",
        "print(\"Files in directory:\")\n",
        "print(os.listdir(orgi_path))\n",
        "print(len(orgi_path))\n",
        "print(\"Number of files:\", len(os.listdir(orgi_path)))"
      ]
    },
    {
      "cell_type": "code",
      "execution_count": null,
      "metadata": {
        "id": "zfrhDlbN6_UJ"
      },
      "outputs": [],
      "source": []
    },
    {
      "cell_type": "code",
      "execution_count": null,
      "metadata": {
        "id": "XZ-E65tb8DLn"
      },
      "outputs": [],
      "source": [
        "import numpy as np\n",
        "from PIL import Image\n",
        "import os\n",
        "\n",
        "# Assuming image_files_glioma is your list of image file paths\n",
        "# and idxs is your NumPy array of indices\n",
        "\n",
        "# Convert the list to a NumPy array first\n",
        "image_files_pituitary_np= np.array(image_files_pituitary)\n",
        "\n",
        "# Use idxs to get paths\n",
        "X_train_paths =image_files_pituitary_np[idxs]\n",
        "\n",
        "# Initialize an empty list to store image data\n",
        "X_train = []\n",
        "\n",
        "\n",
        "orgi_path = '/content/Training/pituitary'\n",
        "\n",
        "# Load and preprocess each image\n",
        "for path in X_train_paths:\n",
        "    absolute_path = os.path.join(orgi_path, path)\n",
        "    print(f\"Checking path: {absolute_path}\")  # Debugging line\n",
        "\n",
        "    # Check if file exists\n",
        "    if os.path.exists(absolute_path):\n",
        "        image = Image.open(absolute_path).convert('L')  # Convert to grayscale\n",
        "        image = image.resize((WIDTH, HEIGHT))  # Resize image\n",
        "        image_np = np.array(image)  # Convert to NumPy array\n",
        "\n",
        "        # Normalize and append to X_train\n",
        "        X_train.append((image_np.astype(np.float32) - 127.5) / 127.5)\n",
        "    else:\n",
        "        print(f\"Warning: File not found: {absolute_path}\")\n",
        "\n",
        "# Convert X_train to a NumPy array\n",
        "X_train = np.array(X_train)\n",
        "\n",
        "# Check the shape before reshaping\n",
        "print(\"Shape before reshaping:\", X_train.shape)\n",
        "\n",
        "# Reshape images if necessary\n",
        "if X_train.size > 0:  # Check if there are any images loaded\n",
        "    X_train = X_train.reshape(-1, WIDTH, HEIGHT, CHANNELS)\n",
        "\n",
        "# Check final shape\n",
        "print(\"Final shape of X_train:\", X_train.shape)\n",
        "print(len(X_train))\n",
        "\n"
      ]
    },
    {
      "cell_type": "code",
      "execution_count": null,
      "metadata": {
        "id": "LIq553_n6_Rq"
      },
      "outputs": [],
      "source": [
        "plt.figure(figsize=(20,8))\n",
        "for i in range(10):\n",
        "    axs = plt.subplot(2,5,i+1)\n",
        "    plt.imshow(X_train[i], cmap=\"gray\")\n",
        "    plt.axis('off')\n",
        "    axs.set_xticklabels([])\n",
        "    axs.set_yticklabels([])\n",
        "    plt.subplots_adjust(wspace=None, hspace=None)\n",
        "plt.tight_layout()"
      ]
    },
    {
      "cell_type": "code",
      "execution_count": null,
      "metadata": {
        "id": "qJRzwc396_OC"
      },
      "outputs": [],
      "source": [
        "def build_generator():\n",
        "\n",
        "\n",
        "\n",
        "    model = Sequential([\n",
        "\n",
        "        Dense(32*32*256, input_dim=NOISE_DIM),\n",
        "        LeakyReLU(alpha=0.2),\n",
        "        Reshape((32,32,256)),\n",
        "\n",
        "        Conv2DTranspose(128, (4, 4), strides=2, padding='same'),\n",
        "        LeakyReLU(alpha=0.2),\n",
        "\n",
        "        Conv2DTranspose(128, (4, 4), strides=2, padding='same'),\n",
        "        LeakyReLU(alpha=0.2),\n",
        "\n",
        "        Conv2D(CHANNELS, (4, 4), padding='same', activation='tanh')\n",
        "    ],\n",
        "    name=\"generator\")\n",
        "    model.summary()\n",
        "    model.compile(loss=\"binary_crossentropy\", optimizer=OPTIMIZER)\n",
        "\n",
        "    return model"
      ]
    },
    {
      "cell_type": "code",
      "execution_count": null,
      "metadata": {
        "id": "S1wVYEVI8dYG"
      },
      "outputs": [],
      "source": [
        "def build_discriminator():\n",
        "\n",
        "\n",
        "\n",
        "    model = Sequential([\n",
        "\n",
        "        Conv2D(64, (3, 3), padding='same', input_shape=(WIDTH, HEIGHT, CHANNELS)),\n",
        "        LeakyReLU(alpha=0.2),\n",
        "\n",
        "        Conv2D(128, (3, 3), strides=2, padding='same'),\n",
        "        LeakyReLU(alpha=0.2),\n",
        "\n",
        "        Conv2D(128, (3, 3), strides=2, padding='same'),\n",
        "        LeakyReLU(alpha=0.2),\n",
        "\n",
        "        Conv2D(256, (3, 3), strides=2, padding='same'),\n",
        "        LeakyReLU(alpha=0.2),\n",
        "\n",
        "        Flatten(),\n",
        "        Dropout(0.4),\n",
        "        Dense(1, activation=\"sigmoid\", input_shape=(WIDTH, HEIGHT, CHANNELS))\n",
        "    ], name=\"discriminator\")\n",
        "    model.summary()\n",
        "    model.compile(loss=\"binary_crossentropy\",\n",
        "                        optimizer=OPTIMIZER)\n",
        "\n",
        "    return model"
      ]
    },
    {
      "cell_type": "code",
      "execution_count": null,
      "metadata": {
        "id": "GUKn44Bq8dUi"
      },
      "outputs": [],
      "source": []
    },
    {
      "cell_type": "code",
      "execution_count": null,
      "metadata": {
        "id": "6tReyeAu8y2G"
      },
      "outputs": [],
      "source": [
        "print('\\n')\n",
        "discriminator = build_discriminator()\n",
        "print('\\n')\n",
        "generator = build_generator()\n",
        "\n",
        "#discriminator.trainable = False\n",
        "\n",
        "gan_input = Input(shape=(NOISE_DIM,))\n",
        "fake_image = generator(gan_input)\n",
        "\n",
        "gan_output = discriminator(fake_image)\n",
        "\n",
        "gan = Model(gan_input, gan_output, name=\"gan_model\")\n",
        "\n",
        "# Import the LegacyAdam optimizer\n",
        "from tensorflow.keras.optimizers import Adam\n",
        "\n",
        "# Create a new LegacyAdam optimizer instance\n",
        "\n",
        "optimizer = Adam(learning_rate=0.0002)\n",
        "# Access trainable variables to ensure they are recognized (workaround)\n",
        "_ = gan.trainable_variables # This line is the key to the workaround.\n",
        "\n",
        "# Compile the GAN model using the optimizer\n",
        "gan.compile(loss=\"binary_crossentropy\", optimizer=optimizer)\n",
        "\n",
        "print(\"The Combined Network:\\n\")\n",
        "gan.summary()"
      ]
    },
    {
      "cell_type": "code",
      "execution_count": null,
      "metadata": {
        "id": "px7949Tl8dRw"
      },
      "outputs": [],
      "source": [
        "def sample_images(noise, subplots, figsize=(22,8), save=False):\n",
        "    generated_images = generator.predict(noise)\n",
        "    plt.figure(figsize=figsize)\n",
        "\n",
        "    for i, image in enumerate(generated_images):\n",
        "        plt.subplot(subplots[0], subplots[1], i+1)\n",
        "        if CHANNELS == 1:\n",
        "            plt.imshow(image.reshape((WIDTH, HEIGHT)), cmap='gray')\n",
        "\n",
        "        else:\n",
        "            plt.imshow(image.reshape((WIDTH, HEIGHT, CHANNELS)))\n",
        "        if save == True:\n",
        "            img_name = \"gen\" + str(i)\n",
        "            plt.savefig(img_name)\n",
        "        plt.subplots_adjust(wspace=None, hspace=None)\n",
        "        plt.axis('off')\n",
        "\n",
        "    plt.tight_layout()\n",
        "    plt.show()"
      ]
    },
    {
      "cell_type": "code",
      "execution_count": null,
      "metadata": {
        "id": "SDg8X8vF9Dw_"
      },
      "outputs": [],
      "source": [
        "from tensorflow.keras.optimizers.legacy import Adam\n",
        "optimizer = Adam(learning_rate=0.0002)\n",
        "discriminator = build_discriminator()\n",
        "generator = build_generator()\n",
        "discriminator.compile(loss=\"binary_crossentropy\", optimizer=optimizer)\n",
        "gan_input = Input(shape=(NOISE_DIM,))\n",
        "fake_image = generator(gan_input)\n",
        "gan_output = discriminator(fake_image)\n",
        "\n",
        "gan = Model(gan_input, gan_output, name=\"gan_model\")\n",
        "discriminator.trainable = False\n",
        "gan.compile(loss=\"binary_crossentropy\", optimizer=optimizer)\n",
        "\n",
        "print(\"The Combined Network:\\n\")\n",
        "gan.summary()"
      ]
    },
    {
      "cell_type": "code",
      "execution_count": null,
      "metadata": {
        "id": "cEf-MlfF83sZ"
      },
      "outputs": [],
      "source": [
        "!pip install tqdm\n",
        "from tqdm import tqdm"
      ]
    },
    {
      "cell_type": "code",
      "execution_count": null,
      "metadata": {
        "id": "zP6Oe98x9W_N"
      },
      "outputs": [],
      "source": [
        "# Import the LegacyAdam optimizer\n",
        "from tensorflow.keras.optimizers.legacy import Adam\n",
        "\n",
        "# Create a new LegacyAdam optimizer instance\n",
        "optimizer = Adam(learning_rate=0.0002)\n",
        "\n",
        "# Build the models\n",
        "discriminator = build_discriminator()\n",
        "generator = build_generator()\n",
        "\n",
        "# Compile the discriminator\n",
        "discriminator.compile(loss=\"binary_crossentropy\", optimizer=optimizer)\n",
        "\n",
        "# Build the GAN model\n",
        "gan_input = Input(shape=(NOISE_DIM,))\n",
        "fake_image = generator(gan_input)\n",
        "gan_output = discriminator(fake_image)\n",
        "\n",
        "gan = Model(gan_input, gan_output, name=\"gan_model\")\n",
        "\n",
        "# When compiling the GAN, set discriminator as non-trainable to freeze its weights\n",
        "discriminator.trainable = False\n",
        "gan.compile(loss=\"binary_crossentropy\", optimizer=optimizer)\n",
        "\n",
        "print(\"The Combined Network:\\n\")\n",
        "gan.summary()\n",
        "\n",
        "# Training loop\n",
        "np.random.seed(SEED)\n",
        "for epoch in range(10):\n",
        "    for batch in tqdm(range(STEPS_PER_EPOCH)):\n",
        "\n",
        "        # Generate random noise for fake images\n",
        "        noise = np.random.normal(0, 1, size=(BATCH_SIZE, NOISE_DIM))\n",
        "        fake_X = generator.predict(noise)\n",
        "\n",
        "        # Sample a random batch of real images\n",
        "        idx = np.random.randint(0, X_train.shape[0], size=BATCH_SIZE)\n",
        "        real_X = X_train[idx]\n",
        "\n",
        "        # Concatenate fake and real images for discriminator training\n",
        "        X = np.concatenate((real_X, fake_X))\n",
        "\n",
        "        # Create labels: real = 1, fake = 0\n",
        "        disc_y = np.zeros(2 * BATCH_SIZE)\n",
        "        disc_y[:BATCH_SIZE] = 1\n",
        "\n",
        "        # Train the discriminator\n",
        "        discriminator.trainable = True  # Make discriminator trainable\n",
        "        d_loss = discriminator.train_on_batch(X, disc_y)\n",
        "\n",
        "        # Train the generator (discriminator frozen during generator training)\n",
        "        discriminator.trainable = False  # Freeze discriminator\n",
        "        noise = np.random.normal(0, 1, size=(BATCH_SIZE, NOISE_DIM))\n",
        "        y_gen = np.ones(BATCH_SIZE)  # Generator wants discriminator to output 1 for fake images\n",
        "        g_loss = gan.train_on_batch(noise, y_gen)\n",
        "\n",
        "    print(f\"EPOCH: {epoch + 1} Generator Loss: {g_loss:.4f} Discriminator Loss: {d_loss:.4f}\")\n",
        "    noise = np.random.normal(0, 1, size=(10, NOISE_DIM))\n",
        "    sample_images(noise, (2, 5))\n"
      ]
    },
    {
      "cell_type": "code",
      "execution_count": null,
      "metadata": {
        "id": "Sfnkerw383ou"
      },
      "outputs": [],
      "source": []
    },
    {
      "cell_type": "code",
      "execution_count": null,
      "metadata": {
        "id": "YVC-WzFL83l3"
      },
      "outputs": [],
      "source": []
    },
    {
      "cell_type": "markdown",
      "metadata": {
        "id": "nFfk8aLj3Qs5"
      },
      "source": [
        "meningioma"
      ]
    },
    {
      "cell_type": "code",
      "execution_count": null,
      "metadata": {
        "id": "7Hmi1dWz3Kax"
      },
      "outputs": [],
      "source": [
        "NOISE_DIM = 100\n",
        "BATCH_SIZE = 4\n",
        "STEPS_PER_EPOCH =no_images_meningioma // BATCH_SIZE\n",
        "EPOCHS = 20\n",
        "SEED = 40\n",
        "WIDTH, HEIGHT, CHANNELS = 128, 128, 1\n",
        "\n",
        "OPTIMIZER = Adam(0.0002, 0.5)\n",
        "print(STEPS_PER_EPOCH)"
      ]
    },
    {
      "cell_type": "code",
      "execution_count": null,
      "metadata": {
        "id": "kP7ySfwZ3WMk"
      },
      "outputs": [],
      "source": [
        "np.random.seed(SEED)\n",
        "idxs = np.random.randint(0, 155, 20)"
      ]
    },
    {
      "cell_type": "code",
      "execution_count": null,
      "metadata": {
        "id": "NQrT666c3WJC"
      },
      "outputs": [],
      "source": [
        "type(image_files_meningioma)"
      ]
    },
    {
      "cell_type": "code",
      "execution_count": null,
      "metadata": {
        "id": "WPj-6cqX3WGY"
      },
      "outputs": [],
      "source": [
        "import os\n",
        "\n",
        "org_path = '/content/Training/meningioma'\n",
        "print(\"Files in directory:\")\n",
        "print(os.listdir(org_path))\n",
        "print(len(org_path))\n",
        "print(\"Number of files:\", len(os.listdir(org_path)))"
      ]
    },
    {
      "cell_type": "code",
      "execution_count": null,
      "metadata": {
        "id": "rrSTOshY3WC8"
      },
      "outputs": [],
      "source": []
    },
    {
      "cell_type": "code",
      "execution_count": null,
      "metadata": {
        "id": "ialSVkNI35Qs"
      },
      "outputs": [],
      "source": [
        "import numpy as np\n",
        "from PIL import Image\n",
        "import os\n",
        "\n",
        "# Assuming image_files_glioma is your list of image file paths\n",
        "# and idxs is your NumPy array of indices\n",
        "\n",
        "# Convert the list to a NumPy array first\n",
        "image_files_meningioma_np= np.array(image_files_meningioma)\n",
        "\n",
        "# Use idxs to get paths\n",
        "X_train_paths =image_files_meningioma_np[idxs]\n",
        "\n",
        "# Initialize an empty list to store image data\n",
        "X_train = []\n",
        "\n",
        "org_path = '/content/Training/meningioma'\n",
        "\n",
        "# Load and preprocess each image\n",
        "for path in X_train_paths:\n",
        "    absolute_path = os.path.join(org_path, path)\n",
        "    print(f\"Checking path: {absolute_path}\")  # Debugging line\n",
        "\n",
        "    # Check if file exists\n",
        "    if os.path.exists(absolute_path):\n",
        "        image = Image.open(absolute_path).convert('L')  # Convert to grayscale\n",
        "        image = image.resize((WIDTH, HEIGHT))  # Resize image\n",
        "        image_np = np.array(image)  # Convert to NumPy array\n",
        "\n",
        "        # Normalize and append to X_train\n",
        "        X_train.append((image_np.astype(np.float32) - 127.5) / 127.5)\n",
        "    else:\n",
        "        print(f\"Warning: File not found: {absolute_path}\")\n",
        "\n",
        "# Convert X_train to a NumPy array\n",
        "X_train = np.array(X_train)\n",
        "\n",
        "# Check the shape before reshaping\n",
        "print(\"Shape before reshaping:\", X_train.shape)\n",
        "\n",
        "# Reshape images if necessary\n",
        "if X_train.size > 0:  # Check if there are any images loaded\n",
        "    X_train = X_train.reshape(-1, WIDTH, HEIGHT, CHANNELS)\n",
        "\n",
        "# Check final shape\n",
        "print(\"Final shape of X_train:\", X_train.shape)\n",
        "print(len(X_train))\n",
        "\n"
      ]
    },
    {
      "cell_type": "code",
      "execution_count": null,
      "metadata": {
        "id": "AIWHblRk3V_0"
      },
      "outputs": [],
      "source": [
        "plt.figure(figsize=(20,8))\n",
        "for i in range(10):\n",
        "    axs = plt.subplot(2,5,i+1)\n",
        "    plt.imshow(X_train[i], cmap=\"gray\")\n",
        "    plt.axis('off')\n",
        "    axs.set_xticklabels([])\n",
        "    axs.set_yticklabels([])\n",
        "    plt.subplots_adjust(wspace=None, hspace=None)\n",
        "plt.tight_layout()"
      ]
    },
    {
      "cell_type": "code",
      "execution_count": null,
      "metadata": {
        "id": "T7u4nMZG422K"
      },
      "outputs": [],
      "source": [
        "def build_generator():\n",
        "\n",
        "\n",
        "\n",
        "    model = Sequential([\n",
        "\n",
        "        Dense(32*32*256, input_dim=NOISE_DIM),\n",
        "        LeakyReLU(alpha=0.2),\n",
        "        Reshape((32,32,256)),\n",
        "\n",
        "        Conv2DTranspose(128, (4, 4), strides=2, padding='same'),\n",
        "        LeakyReLU(alpha=0.2),\n",
        "\n",
        "        Conv2DTranspose(128, (4, 4), strides=2, padding='same'),\n",
        "        LeakyReLU(alpha=0.2),\n",
        "\n",
        "        Conv2D(CHANNELS, (4, 4), padding='same', activation='tanh')\n",
        "    ],\n",
        "    name=\"generator\")\n",
        "    model.summary()\n",
        "    model.compile(loss=\"binary_crossentropy\", optimizer=OPTIMIZER)\n",
        "\n",
        "    return model"
      ]
    },
    {
      "cell_type": "code",
      "execution_count": null,
      "metadata": {
        "id": "upJq68gI42yq"
      },
      "outputs": [],
      "source": [
        "def build_discriminator():\n",
        "\n",
        "\n",
        "\n",
        "    model = Sequential([\n",
        "\n",
        "        Conv2D(64, (3, 3), padding='same', input_shape=(WIDTH, HEIGHT, CHANNELS)),\n",
        "        LeakyReLU(alpha=0.2),\n",
        "\n",
        "        Conv2D(128, (3, 3), strides=2, padding='same'),\n",
        "        LeakyReLU(alpha=0.2),\n",
        "\n",
        "        Conv2D(128, (3, 3), strides=2, padding='same'),\n",
        "        LeakyReLU(alpha=0.2),\n",
        "\n",
        "        Conv2D(256, (3, 3), strides=2, padding='same'),\n",
        "        LeakyReLU(alpha=0.2),\n",
        "\n",
        "        Flatten(),\n",
        "        Dropout(0.4),\n",
        "        Dense(1, activation=\"sigmoid\", input_shape=(WIDTH, HEIGHT, CHANNELS))\n",
        "    ], name=\"discriminator\")\n",
        "    model.summary()\n",
        "    model.compile(loss=\"binary_crossentropy\",\n",
        "                        optimizer=OPTIMIZER)\n",
        "\n",
        "    return model"
      ]
    },
    {
      "cell_type": "code",
      "execution_count": null,
      "metadata": {
        "id": "nkRVLwszk4Hk"
      },
      "outputs": [],
      "source": [
        "def sample_images(noise, subplots, figsize=(22,8), save=False):\n",
        "    generated_images = generator.predict(noise)\n",
        "    plt.figure(figsize=figsize)\n",
        "\n",
        "    for i, image in enumerate(generated_images):\n",
        "        plt.subplot(subplots[0], subplots[1], i+1)\n",
        "        if CHANNELS == 1:\n",
        "            plt.imshow(image.reshape((WIDTH, HEIGHT)), cmap='gray')\n",
        "\n",
        "        else:\n",
        "            plt.imshow(image.reshape((WIDTH, HEIGHT, CHANNELS)))\n",
        "        if save == True:\n",
        "            img_name = \"gen\" + str(i)\n",
        "            plt.savefig(img_name)\n",
        "        plt.subplots_adjust(wspace=None, hspace=None)\n",
        "        plt.axis('off')\n",
        "\n",
        "    plt.tight_layout()\n",
        "    plt.show()"
      ]
    },
    {
      "cell_type": "code",
      "execution_count": null,
      "metadata": {
        "id": "khMs2LHW42vX"
      },
      "outputs": [],
      "source": [
        "print('\\n')\n",
        "discriminator = build_discriminator()\n",
        "print('\\n')\n",
        "generator = build_generator()\n",
        "\n",
        "#discriminator.trainable = False\n",
        "\n",
        "gan_input = Input(shape=(NOISE_DIM,))\n",
        "fake_image = generator(gan_input)\n",
        "\n",
        "gan_output = discriminator(fake_image)\n",
        "\n",
        "gan = Model(gan_input, gan_output, name=\"gan_model\")\n",
        "\n",
        "# Import the LegacyAdam optimizer\n",
        "from tensorflow.keras.optimizers import Adam\n",
        "\n",
        "# Create a new LegacyAdam optimizer instance\n",
        "\n",
        "optimizer = Adam(learning_rate=0.0002)\n",
        "# Access trainable variables to ensure they are recognized (workaround)\n",
        "_ = gan.trainable_variables # This line is the key to the workaround.\n",
        "\n",
        "# Compile the GAN model using the optimizer\n",
        "gan.compile(loss=\"binary_crossentropy\", optimizer=optimizer)\n",
        "\n",
        "print(\"The Combined Network:\\n\")\n",
        "gan.summary()"
      ]
    },
    {
      "cell_type": "code",
      "execution_count": null,
      "metadata": {
        "id": "4lkQ68hh42s_"
      },
      "outputs": [],
      "source": [
        "from tensorflow.keras.optimizers.legacy import Adam\n",
        "optimizer = Adam(learning_rate=0.0002)\n",
        "discriminator = build_discriminator()\n",
        "generator = build_generator()\n",
        "discriminator.compile(loss=\"binary_crossentropy\", optimizer=optimizer)\n",
        "gan_input = Input(shape=(NOISE_DIM,))\n",
        "fake_image = generator(gan_input)\n",
        "gan_output = discriminator(fake_image)\n",
        "\n",
        "gan = Model(gan_input, gan_output, name=\"gan_model\")\n",
        "discriminator.trainable = False\n",
        "gan.compile(loss=\"binary_crossentropy\", optimizer=optimizer)\n",
        "\n",
        "print(\"The Combined Network:\\n\")\n",
        "gan.summary()"
      ]
    },
    {
      "cell_type": "code",
      "execution_count": null,
      "metadata": {
        "id": "CDVV6_jh5Krg"
      },
      "outputs": [],
      "source": []
    },
    {
      "cell_type": "code",
      "execution_count": null,
      "metadata": {
        "id": "EY6KF4su6lXz"
      },
      "outputs": [],
      "source": [
        "!pip install tqdm\n",
        "from"
      ]
    },
    {
      "cell_type": "code",
      "execution_count": null,
      "metadata": {
        "id": "JlDlvwmE6j88"
      },
      "outputs": [],
      "source": [
        "# Import the LegacyAdam optimizer\n",
        "from tensorflow.keras.optimizers.legacy import Adam\n",
        "\n",
        "# Create a new LegacyAdam optimizer instance\n",
        "optimizer = Adam(learning_rate=0.0002)\n",
        "\n",
        "# Build the models\n",
        "discriminator = build_discriminator()\n",
        "generator = build_generator()\n",
        "\n",
        "# Compile the discriminator\n",
        "discriminator.compile(loss=\"binary_crossentropy\", optimizer=optimizer)\n",
        "\n",
        "# Build the GAN model\n",
        "gan_input = Input(shape=(NOISE_DIM,))\n",
        "fake_image = generator(gan_input)\n",
        "gan_output = discriminator(fake_image)\n",
        "\n",
        "gan = Model(gan_input, gan_output, name=\"gan_model\")\n",
        "\n",
        "# When compiling the GAN, set discriminator as non-trainable to freeze its weights\n",
        "discriminator.trainable = False\n",
        "gan.compile(loss=\"binary_crossentropy\", optimizer=optimizer)\n",
        "\n",
        "print(\"The Combined Network:\\n\")\n",
        "gan.summary()\n",
        "\n",
        "# Training loop\n",
        "np.random.seed(SEED)\n",
        "for epoch in range(10):\n",
        "    for batch in tqdm(range(STEPS_PER_EPOCH)):\n",
        "\n",
        "        # Generate random noise for fake images\n",
        "        noise = np.random.normal(0, 1, size=(BATCH_SIZE, NOISE_DIM))\n",
        "        fake_X = generator.predict(noise)\n",
        "\n",
        "        # Sample a random batch of real images\n",
        "        idx = np.random.randint(0, X_train.shape[0], size=BATCH_SIZE)\n",
        "        real_X = X_train[idx]\n",
        "\n",
        "        # Concatenate fake and real images for discriminator training\n",
        "        X = np.concatenate((real_X, fake_X))\n",
        "\n",
        "        # Create labels: real = 1, fake = 0\n",
        "        disc_y = np.zeros(2 * BATCH_SIZE)\n",
        "        disc_y[:BATCH_SIZE] = 1\n",
        "\n",
        "        # Train the discriminator\n",
        "        discriminator.trainable = True  # Make discriminator trainable\n",
        "        d_loss = discriminator.train_on_batch(X, disc_y)\n",
        "\n",
        "        # Train the generator (discriminator frozen during generator training)\n",
        "        discriminator.trainable = False  # Freeze discriminator\n",
        "        noise = np.random.normal(0, 1, size=(BATCH_SIZE, NOISE_DIM))\n",
        "        y_gen = np.ones(BATCH_SIZE)  # Generator wants discriminator to output 1 for fake images\n",
        "        g_loss = gan.train_on_batch(noise, y_gen)\n",
        "\n",
        "    print(f\"EPOCH: {epoch + 1} Generator Loss: {g_loss:.4f} Discriminator Loss: {d_loss:.4f}\")\n",
        "    noise = np.random.normal(0, 1, size=(10, NOISE_DIM))\n",
        "    sample_images(noise, (2, 5))\n"
      ]
    },
    {
      "cell_type": "markdown",
      "metadata": {
        "id": "iyVH-nWy6uY1"
      },
      "source": [
        "notumour"
      ]
    },
    {
      "cell_type": "code",
      "execution_count": null,
      "metadata": {
        "id": "4GHtqeRf5Kn7"
      },
      "outputs": [],
      "source": []
    },
    {
      "cell_type": "code",
      "execution_count": null,
      "metadata": {
        "id": "qFFVM0CW5KlA"
      },
      "outputs": [],
      "source": []
    },
    {
      "cell_type": "code",
      "execution_count": null,
      "metadata": {
        "id": "IFBDKLYp5KiV"
      },
      "outputs": [],
      "source": []
    },
    {
      "cell_type": "code",
      "execution_count": null,
      "metadata": {
        "id": "7D5Vl_Ud5Kfo"
      },
      "outputs": [],
      "source": []
    },
    {
      "cell_type": "markdown",
      "metadata": {
        "id": "g6nBvo8j3N1D"
      },
      "source": [
        "for glioma"
      ]
    },
    {
      "cell_type": "code",
      "execution_count": null,
      "metadata": {
        "id": "ZMUxd1xd0fQx"
      },
      "outputs": [],
      "source": [
        "NOISE_DIM = 100\n",
        "BATCH_SIZE = 4\n",
        "STEPS_PER_EPOCH =num_images_glioma // BATCH_SIZE\n",
        "EPOCHS = 20\n",
        "SEED = 40\n",
        "WIDTH, HEIGHT, CHANNELS = 128, 128, 1\n",
        "\n",
        "OPTIMIZER = Adam(0.0002, 0.5)\n",
        "print(STEPS_PER_EPOCH)"
      ]
    },
    {
      "cell_type": "code",
      "execution_count": null,
      "metadata": {
        "id": "CYOlb4Rw0fFe"
      },
      "outputs": [],
      "source": [
        "np.random.seed(SEED)\n",
        "idxs = np.random.randint(0, 155, 20)"
      ]
    },
    {
      "cell_type": "code",
      "execution_count": null,
      "metadata": {
        "id": "Ad5Jq2p69Vyq"
      },
      "outputs": [],
      "source": [
        "type(image_files_glioma)"
      ]
    },
    {
      "cell_type": "code",
      "execution_count": null,
      "metadata": {
        "id": "e6yjCr2CD9vY"
      },
      "outputs": [],
      "source": [
        "import os\n",
        "\n",
        "base_path = '/content/Training/glioma'\n",
        "print(\"Files in directory:\")\n",
        "print(os.listdir(base_path))\n",
        "print(len(base_path))\n",
        "print(\"Number of files:\", len(os.listdir(base_path)))\n"
      ]
    },
    {
      "cell_type": "code",
      "execution_count": null,
      "metadata": {
        "id": "K5e-BbxBEHWI"
      },
      "outputs": [],
      "source": [
        "import numpy as np\n",
        "from PIL import Image\n",
        "import os\n",
        "\n",
        "# Assuming image_files_glioma is your list of image file paths\n",
        "# and idxs is your NumPy array of indices\n",
        "\n",
        "# Convert the list to a NumPy array first\n",
        "image_files_glioma_np = np.array(image_files_glioma)\n",
        "\n",
        "# Use idxs to get paths\n",
        "X_train_paths = image_files_glioma_np[idxs]\n",
        "\n",
        "# Initialize an empty list to store image data\n",
        "X_train = []\n",
        "\n",
        "base_path = '/content/Training/glioma'\n",
        "\n",
        "# Load and preprocess each image\n",
        "for path in X_train_paths:\n",
        "    absolute_path = os.path.join(base_path, path)\n",
        "    print(f\"Checking path: {absolute_path}\")  # Debugging line\n",
        "\n",
        "    # Check if file exists\n",
        "    if os.path.exists(absolute_path):\n",
        "        image = Image.open(absolute_path).convert('L')  # Convert to grayscale\n",
        "        image = image.resize((WIDTH, HEIGHT))  # Resize image\n",
        "        image_np = np.array(image)  # Convert to NumPy array\n",
        "\n",
        "        # Normalize and append to X_train\n",
        "        X_train.append((image_np.astype(np.float32) - 127.5) / 127.5)\n",
        "    else:\n",
        "        print(f\"Warning: File not found: {absolute_path}\")\n",
        "\n",
        "# Convert X_train to a NumPy array\n",
        "X_train = np.array(X_train)\n",
        "\n",
        "# Check the shape before reshaping\n",
        "print(\"Shape before reshaping:\", X_train.shape)\n",
        "\n",
        "# Reshape images if necessary\n",
        "if X_train.size > 0:  # Check if there are any images loaded\n",
        "    X_train = X_train.reshape(-1, WIDTH, HEIGHT, CHANNELS)\n",
        "\n",
        "# Check final shape\n",
        "print(\"Final shape of X_train:\", X_train.shape)\n",
        "print(len(X_train))\n",
        "\n"
      ]
    },
    {
      "cell_type": "code",
      "execution_count": null,
      "metadata": {
        "id": "n2w4Uc0IEHSh"
      },
      "outputs": [],
      "source": []
    },
    {
      "cell_type": "code",
      "execution_count": null,
      "metadata": {
        "id": "zKX1aDyEEHPs"
      },
      "outputs": [],
      "source": [
        "plt.figure(figsize=(20,8))\n",
        "for i in range(10):\n",
        "    axs = plt.subplot(2,5,i+1)\n",
        "    plt.imshow(X_train[i], cmap=\"gray\")\n",
        "    plt.axis('off')\n",
        "    axs.set_xticklabels([])\n",
        "    axs.set_yticklabels([])\n",
        "    plt.subplots_adjust(wspace=None, hspace=None)\n",
        "plt.tight_layout()"
      ]
    },
    {
      "cell_type": "code",
      "execution_count": null,
      "metadata": {
        "id": "IE6sLu8xVMKF"
      },
      "outputs": [],
      "source": [
        "def build_generator():\n",
        "\n",
        "\n",
        "\n",
        "    model = Sequential([\n",
        "\n",
        "        Dense(32*32*256, input_dim=NOISE_DIM),\n",
        "        LeakyReLU(alpha=0.2),\n",
        "        Reshape((32,32,256)),\n",
        "\n",
        "        Conv2DTranspose(128, (4, 4), strides=2, padding='same'),\n",
        "        LeakyReLU(alpha=0.2),\n",
        "\n",
        "        Conv2DTranspose(128, (4, 4), strides=2, padding='same'),\n",
        "        LeakyReLU(alpha=0.2),\n",
        "\n",
        "        Conv2D(CHANNELS, (4, 4), padding='same', activation='tanh')\n",
        "    ],\n",
        "    name=\"generator\")\n",
        "    model.summary()\n",
        "    model.compile(loss=\"binary_crossentropy\", optimizer=OPTIMIZER)\n",
        "\n",
        "    return model\n"
      ]
    },
    {
      "cell_type": "code",
      "execution_count": null,
      "metadata": {
        "id": "65l4JHnCVyl8"
      },
      "outputs": [],
      "source": [
        "def build_discriminator():\n",
        "\n",
        "\n",
        "\n",
        "    model = Sequential([\n",
        "\n",
        "        Conv2D(64, (3, 3), padding='same', input_shape=(WIDTH, HEIGHT, CHANNELS)),\n",
        "        LeakyReLU(alpha=0.2),\n",
        "\n",
        "        Conv2D(128, (3, 3), strides=2, padding='same'),\n",
        "        LeakyReLU(alpha=0.2),\n",
        "\n",
        "        Conv2D(128, (3, 3), strides=2, padding='same'),\n",
        "        LeakyReLU(alpha=0.2),\n",
        "\n",
        "        Conv2D(256, (3, 3), strides=2, padding='same'),\n",
        "        LeakyReLU(alpha=0.2),\n",
        "\n",
        "        Flatten(),\n",
        "        Dropout(0.4),\n",
        "        Dense(1, activation=\"sigmoid\", input_shape=(WIDTH, HEIGHT, CHANNELS))\n",
        "    ], name=\"discriminator\")\n",
        "    model.summary()\n",
        "    model.compile(loss=\"binary_crossentropy\",\n",
        "                        optimizer=OPTIMIZER)\n",
        "\n",
        "    return model"
      ]
    },
    {
      "cell_type": "code",
      "execution_count": null,
      "metadata": {
        "id": "ZJy0gCJB5Q33"
      },
      "outputs": [],
      "source": [
        "from tensorflow.keras.optimizers.legacy import Adam\n",
        "optimizer = Adam(learning_rate=0.0002)\n",
        "discriminator = build_discriminator()\n",
        "generator = build_generator()\n",
        "discriminator.compile(loss=\"binary_crossentropy\", optimizer=optimizer)\n",
        "gan_input = Input(shape=(NOISE_DIM,))\n",
        "fake_image = generator(gan_input)\n",
        "gan_output = discriminator(fake_image)\n",
        "\n",
        "gan = Model(gan_input, gan_output, name=\"gan_model\")\n",
        "discriminator.trainable = False\n",
        "gan.compile(loss=\"binary_crossentropy\", optimizer=optimizer)\n",
        "\n",
        "print(\"The Combined Network:\\n\")\n",
        "gan.summary()"
      ]
    },
    {
      "cell_type": "code",
      "execution_count": null,
      "metadata": {
        "id": "r0lXsSMUMpxc"
      },
      "outputs": [],
      "source": [
        "print('\\n')\n",
        "discriminator = build_discriminator()\n",
        "print('\\n')\n",
        "generator = build_generator()\n",
        "\n",
        "#discriminator.trainable = False\n",
        "\n",
        "gan_input = Input(shape=(NOISE_DIM,))\n",
        "fake_image = generator(gan_input)\n",
        "\n",
        "gan_output = discriminator(fake_image)\n",
        "\n",
        "gan = Model(gan_input, gan_output, name=\"gan_model\")\n",
        "\n",
        "# Import the LegacyAdam optimizer\n",
        "from tensorflow.keras.optimizers import Adam\n",
        "\n",
        "# Create a new LegacyAdam optimizer instance\n",
        "\n",
        "optimizer = Adam(learning_rate=0.0002)\n",
        "# Access trainable variables to ensure they are recognized (workaround)\n",
        "_ = gan.trainable_variables # This line is the key to the workaround.\n",
        "\n",
        "# Compile the GAN model using the optimizer\n",
        "gan.compile(loss=\"binary_crossentropy\", optimizer=optimizer)\n",
        "\n",
        "print(\"The Combined Network:\\n\")\n",
        "gan.summary()"
      ]
    },
    {
      "cell_type": "code",
      "execution_count": null,
      "metadata": {
        "id": "4d3MEOkpk_gn"
      },
      "outputs": [],
      "source": [
        "def sample_images(noise, subplots, figsize=(22,8), save=False):\n",
        "    generated_images = generator.predict(noise)\n",
        "    plt.figure(figsize=figsize)\n",
        "\n",
        "    for i, image in enumerate(generated_images):\n",
        "        plt.subplot(subplots[0], subplots[1], i+1)\n",
        "        if CHANNELS == 1:\n",
        "            plt.imshow(image.reshape((WIDTH, HEIGHT)), cmap='gray')\n",
        "\n",
        "        else:\n",
        "            plt.imshow(image.reshape((WIDTH, HEIGHT, CHANNELS)))\n",
        "        if save == True:\n",
        "            img_name = \"gen\" + str(i)\n",
        "            plt.savefig(img_name)\n",
        "        plt.subplots_adjust(wspace=None, hspace=None)\n",
        "        plt.axis('off')\n",
        "\n",
        "    plt.tight_layout()\n",
        "    plt.show()"
      ]
    },
    {
      "cell_type": "code",
      "execution_count": null,
      "metadata": {
        "id": "PP93zupNmpuG"
      },
      "outputs": [],
      "source": [
        "from tensorflow.keras.optimizers.legacy import Adam\n",
        "optimizer = Adam(learning_rate=0.0002)\n",
        "discriminator = build_discriminator()\n",
        "generator = build_generator()\n",
        "discriminator.compile(loss=\"binary_crossentropy\", optimizer=optimizer)\n",
        "gan_input = Input(shape=(NOISE_DIM,))\n",
        "fake_image = generator(gan_input)\n",
        "gan_output = discriminator(fake_image)\n",
        "\n",
        "gan = Model(gan_input, gan_output, name=\"gan_model\")\n",
        "discriminator.trainable = False\n",
        "gan.compile(loss=\"binary_crossentropy\", optimizer=optimizer)\n",
        "\n",
        "print(\"The Combined Network:\\n\")\n",
        "gan.summary()"
      ]
    },
    {
      "cell_type": "code",
      "execution_count": null,
      "metadata": {
        "id": "OkSeScsnH8Kz"
      },
      "outputs": [],
      "source": [
        "\n",
        "!pip install tqdm\n",
        "from tqdm import tqdm"
      ]
    },
    {
      "cell_type": "code",
      "execution_count": null,
      "metadata": {
        "id": "6k7V6utjROlb"
      },
      "outputs": [],
      "source": [
        "# Import the LegacyAdam optimizer\n",
        "from tensorflow.keras.optimizers.legacy import Adam\n",
        "\n",
        "# Create a new LegacyAdam optimizer instance\n",
        "optimizer = Adam(learning_rate=0.0002)\n",
        "\n",
        "# Build the models\n",
        "discriminator = build_discriminator()\n",
        "generator = build_generator()\n",
        "\n",
        "# Compile the discriminator\n",
        "discriminator.compile(loss=\"binary_crossentropy\", optimizer=optimizer)\n",
        "\n",
        "# Build the GAN model\n",
        "gan_input = Input(shape=(NOISE_DIM,))\n",
        "fake_image = generator(gan_input)\n",
        "gan_output = discriminator(fake_image)\n",
        "\n",
        "gan = Model(gan_input, gan_output, name=\"gan_model\")\n",
        "\n",
        "# When compiling the GAN, set discriminator as non-trainable to freeze its weights\n",
        "discriminator.trainable = False\n",
        "gan.compile(loss=\"binary_crossentropy\", optimizer=optimizer)\n",
        "\n",
        "print(\"The Combined Network:\\n\")\n",
        "gan.summary()\n",
        "\n",
        "# Training loop\n",
        "np.random.seed(SEED)\n",
        "for epoch in range(10):\n",
        "    for batch in tqdm(range(STEPS_PER_EPOCH)):\n",
        "\n",
        "        # Generate random noise for fake images\n",
        "        noise = np.random.normal(0, 1, size=(BATCH_SIZE, NOISE_DIM))\n",
        "        fake_X = generator.predict(noise)\n",
        "\n",
        "        # Sample a random batch of real images\n",
        "        idx = np.random.randint(0, X_train.shape[0], size=BATCH_SIZE)\n",
        "        real_X = X_train[idx]\n",
        "\n",
        "        # Concatenate fake and real images for discriminator training\n",
        "        X = np.concatenate((real_X, fake_X))\n",
        "\n",
        "        # Create labels: real = 1, fake = 0\n",
        "        disc_y = np.zeros(2 * BATCH_SIZE)\n",
        "        disc_y[:BATCH_SIZE] = 1\n",
        "\n",
        "        # Train the discriminator\n",
        "        discriminator.trainable = True  # Make discriminator trainable\n",
        "        d_loss = discriminator.train_on_batch(X, disc_y)\n",
        "\n",
        "        # Train the generator (discriminator frozen during generator training)\n",
        "        discriminator.trainable = False  # Freeze discriminator\n",
        "        noise = np.random.normal(0, 1, size=(BATCH_SIZE, NOISE_DIM))\n",
        "        y_gen = np.ones(BATCH_SIZE)  # Generator wants discriminator to output 1 for fake images\n",
        "        g_loss = gan.train_on_batch(noise, y_gen)\n",
        "\n",
        "    print(f\"EPOCH: {epoch + 1} Generator Loss: {g_loss:.4f} Discriminator Loss: {d_loss:.4f}\")\n",
        "    noise = np.random.normal(0, 1, size=(10, NOISE_DIM))\n",
        "    sample_images(noise, (2, 5))\n"
      ]
    },
    {
      "cell_type": "code",
      "execution_count": null,
      "metadata": {
        "id": "RdDNgzXEnhOY"
      },
      "outputs": [],
      "source": []
    }
  ],
  "metadata": {
    "accelerator": "TPU",
    "colab": {
      "gpuType": "V28",
      "provenance": []
    },
    "kernelspec": {
      "display_name": "Python 3",
      "name": "python3"
    },
    "language_info": {
      "name": "python"
    }
  },
  "nbformat": 4,
  "nbformat_minor": 0
}